{
 "cells": [
  {
   "cell_type": "code",
   "execution_count": 9,
   "metadata": {},
   "outputs": [
    {
     "data": {
      "text/html": [
       "<div>\n",
       "<style scoped>\n",
       "    .dataframe tbody tr th:only-of-type {\n",
       "        vertical-align: middle;\n",
       "    }\n",
       "\n",
       "    .dataframe tbody tr th {\n",
       "        vertical-align: top;\n",
       "    }\n",
       "\n",
       "    .dataframe thead th {\n",
       "        text-align: right;\n",
       "    }\n",
       "</style>\n",
       "<table border=\"1\" class=\"dataframe\">\n",
       "  <thead>\n",
       "    <tr style=\"text-align: right;\">\n",
       "      <th></th>\n",
       "      <th>reviewerID</th>\n",
       "      <th>asin</th>\n",
       "      <th>reviewerName</th>\n",
       "      <th>helpful</th>\n",
       "      <th>reviewText</th>\n",
       "      <th>overall</th>\n",
       "      <th>summary</th>\n",
       "      <th>unixReviewTime</th>\n",
       "      <th>reviewTime</th>\n",
       "    </tr>\n",
       "  </thead>\n",
       "  <tbody>\n",
       "    <tr>\n",
       "      <th>0</th>\n",
       "      <td>AIXZKN4ACSKI</td>\n",
       "      <td>1881509818</td>\n",
       "      <td>David Briner</td>\n",
       "      <td>[0, 0]</td>\n",
       "      <td>This came in on time and I am veru happy with ...</td>\n",
       "      <td>5.0</td>\n",
       "      <td>Woks very good</td>\n",
       "      <td>1390694400</td>\n",
       "      <td>01 26, 2014</td>\n",
       "    </tr>\n",
       "  </tbody>\n",
       "</table>\n",
       "</div>"
      ],
      "text/plain": [
       "     reviewerID        asin  reviewerName helpful  \\\n",
       "0  AIXZKN4ACSKI  1881509818  David Briner  [0, 0]   \n",
       "\n",
       "                                          reviewText  overall         summary  \\\n",
       "0  This came in on time and I am veru happy with ...      5.0  Woks very good   \n",
       "\n",
       "   unixReviewTime   reviewTime  \n",
       "0      1390694400  01 26, 2014  "
      ]
     },
     "execution_count": 9,
     "metadata": {},
     "output_type": "execute_result"
    }
   ],
   "source": [
    "import pandas as pd\n",
    "import gzip\n",
    "import json\n",
    "\n",
    "dataset = 'amz-sports' #'amz-beauty', 'amz-toys'\n",
    "filename = 'Sports_and_Outdoors' #'Beauty', 'Toys_and_Games'\n",
    "source_path = f'raw_data/McAuley14/{dataset}/reviews_{filename}_5.json.gz'\n",
    "\n",
    "with gzip.open(source_path, 'rb') as f:\n",
    "    data = [json.loads(line) for line in f]\n",
    "\n",
    "df = pd.DataFrame(data)\n",
    "\n",
    "df.head(1)"
   ]
  },
  {
   "cell_type": "code",
   "execution_count": 11,
   "metadata": {},
   "outputs": [
    {
     "data": {
      "text/plain": [
       "\"This stuff makes your hair feel thicker after using it and overall is a good product. I have been using it for about 6 months and have not seen any hair-loss prevention or any hair growth what so ever. It is very reasonably priced and does leave my hair feeling thicker and better looking than other shampoos i've tried. I do think it promotes your hair to produce more oils though, it is pretty potent. After about 12-14 hours my forehead and scalp seem more oily than in the past since using this product, but nothing terrible or alarming.The smell could be better. It doesn't necessarily smell bad, but it kinda smells like lemony dish soap or like dial hand soap--like some commercial bathroom product--But you gotta hand it to them, it smells pretty damn good for a product having Saw Palmetto berries in it--in case you were unaware, saw palmetto extract and berries smell like pure vomit and death...lol! Don't worry you can't smell the saw palmetto at all. It is not strong scented, you'll just have a light fragrance of some industrial lemon-like handsoap while washing your hair.For the price, it's definitely worth it to at least try.\""
      ]
     },
     "execution_count": 11,
     "metadata": {},
     "output_type": "execute_result"
    }
   ],
   "source": [
    "df[(df['reviewerID']=='A1S8KORSO7AL10') & (df['asin']=='B00004TMFE')].iloc[0]['reviewText']"
   ]
  },
  {
   "cell_type": "code",
   "execution_count": 10,
   "metadata": {},
   "outputs": [],
   "source": [
    "import os\n",
    "\n",
    "# Reviews\n",
    "\n",
    "df['user'] = df['reviewerID']\n",
    "df['item'] = df['asin']\n",
    "df['rating'] = df['overall']\n",
    "df['text'] = df['reviewText']\n",
    "\n",
    "# target_path = f'data/{dataset}-review/reviews.csv'\n",
    "# os.makedirs(os.path.dirname(target_path), exist_ok=True)\n",
    "\n",
    "# df1 = df[['user', 'item', 'rating', 'text']]\n",
    "# df1.to_csv(target_path, index=False)\n",
    "\n",
    "# df1.head(1)"
   ]
  },
  {
   "cell_type": "code",
   "execution_count": 11,
   "metadata": {},
   "outputs": [
    {
     "data": {
      "text/html": [
       "<div>\n",
       "<style scoped>\n",
       "    .dataframe tbody tr th:only-of-type {\n",
       "        vertical-align: middle;\n",
       "    }\n",
       "\n",
       "    .dataframe tbody tr th {\n",
       "        vertical-align: top;\n",
       "    }\n",
       "\n",
       "    .dataframe thead th {\n",
       "        text-align: right;\n",
       "    }\n",
       "</style>\n",
       "<table border=\"1\" class=\"dataframe\">\n",
       "  <thead>\n",
       "    <tr style=\"text-align: right;\">\n",
       "      <th></th>\n",
       "      <th>user</th>\n",
       "      <th>item</th>\n",
       "      <th>rating</th>\n",
       "      <th>text</th>\n",
       "    </tr>\n",
       "  </thead>\n",
       "  <tbody>\n",
       "    <tr>\n",
       "      <th>0</th>\n",
       "      <td>AIXZKN4ACSKI</td>\n",
       "      <td>1881509818</td>\n",
       "      <td>5.0</td>\n",
       "      <td>Woks very good</td>\n",
       "    </tr>\n",
       "  </tbody>\n",
       "</table>\n",
       "</div>"
      ],
      "text/plain": [
       "           user        item  rating            text\n",
       "0  AIXZKN4ACSKI  1881509818     5.0  Woks very good"
      ]
     },
     "execution_count": 11,
     "metadata": {},
     "output_type": "execute_result"
    }
   ],
   "source": [
    "import os\n",
    "\n",
    "df['text'] = df['summary']\n",
    "\n",
    "# Summary\n",
    "\n",
    "target_path = f'data/{dataset}-summary/reviews.csv'\n",
    "os.makedirs(os.path.dirname(target_path), exist_ok=True)\n",
    "\n",
    "df2 = df[['user', 'item', 'rating', 'text']]\n",
    "df2.to_csv(target_path, index=False)\n",
    "\n",
    "df2.head(1)"
   ]
  },
  {
   "cell_type": "code",
   "execution_count": 7,
   "metadata": {},
   "outputs": [
    {
     "data": {
      "text/plain": [
       "count    198502.000000\n",
       "mean          4.053889\n",
       "std           2.796611\n",
       "min           1.000000\n",
       "25%           2.000000\n",
       "50%           3.000000\n",
       "75%           5.000000\n",
       "max          29.000000\n",
       "Name: summary, dtype: float64"
      ]
     },
     "execution_count": 7,
     "metadata": {},
     "output_type": "execute_result"
    }
   ],
   "source": [
    "# Els summaries tendeixen a ser molt curts, 4 paraules de mitjana\n",
    "df['summary'].str.split().str.len().describe()"
   ]
  }
 ],
 "metadata": {
  "kernelspec": {
   "display_name": "Python 3",
   "language": "python",
   "name": "python3"
  },
  "language_info": {
   "codemirror_mode": {
    "name": "ipython",
    "version": 3
   },
   "file_extension": ".py",
   "mimetype": "text/x-python",
   "name": "python",
   "nbconvert_exporter": "python",
   "pygments_lexer": "ipython3",
   "version": "3.11.8"
  }
 },
 "nbformat": 4,
 "nbformat_minor": 2
}
