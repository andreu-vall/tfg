{
 "cells": [
  {
   "cell_type": "code",
   "execution_count": 1,
   "metadata": {},
   "outputs": [
    {
     "data": {
      "text/html": [
       "<div>\n",
       "<style scoped>\n",
       "    .dataframe tbody tr th:only-of-type {\n",
       "        vertical-align: middle;\n",
       "    }\n",
       "\n",
       "    .dataframe tbody tr th {\n",
       "        vertical-align: top;\n",
       "    }\n",
       "\n",
       "    .dataframe thead th {\n",
       "        text-align: right;\n",
       "    }\n",
       "</style>\n",
       "<table border=\"1\" class=\"dataframe\">\n",
       "  <thead>\n",
       "    <tr style=\"text-align: right;\">\n",
       "      <th></th>\n",
       "      <th>user</th>\n",
       "      <th>item</th>\n",
       "      <th>predicted_rating</th>\n",
       "      <th>real_rating</th>\n",
       "      <th>predicted_context</th>\n",
       "      <th>predicted_text</th>\n",
       "      <th>real_text</th>\n",
       "    </tr>\n",
       "  </thead>\n",
       "  <tbody>\n",
       "    <tr>\n",
       "      <th>0</th>\n",
       "      <td>A1PQFP6SAJ6D80</td>\n",
       "      <td>7806397051</td>\n",
       "      <td>4.034941</td>\n",
       "      <td>2.0</td>\n",
       "      <td>i the . a , this and it is to have for ' my love</td>\n",
       "      <td>&lt;bos&gt; i have been using this for about a week ...</td>\n",
       "      <td>i really can ' t tell what exactly this thing ...</td>\n",
       "    </tr>\n",
       "  </tbody>\n",
       "</table>\n",
       "</div>"
      ],
      "text/plain": [
       "             user        item  predicted_rating  real_rating  \\\n",
       "0  A1PQFP6SAJ6D80  7806397051          4.034941          2.0   \n",
       "\n",
       "                                  predicted_context  \\\n",
       "0  i the . a , this and it is to have for ' my love   \n",
       "\n",
       "                                      predicted_text  \\\n",
       "0  <bos> i have been using this for about a week ...   \n",
       "\n",
       "                                           real_text  \n",
       "0  i really can ' t tell what exactly this thing ...  "
      ]
     },
     "execution_count": 1,
     "metadata": {},
     "output_type": "execute_result"
    }
   ],
   "source": [
    "import json\n",
    "import pandas as pd\n",
    "\n",
    "def get_dataframe(train_id, result_id):\n",
    "    with open(f\"out/{train_id}/results/{result_id}.json\") as f:\n",
    "        results = json.load(f)\n",
    "\n",
    "    df = pd.DataFrame(results)\n",
    "    return df\n",
    "\n",
    "df1 = get_dataframe('train_id_1', 'result_id_1')\n",
    "\n",
    "df1.head(1)"
   ]
  },
  {
   "cell_type": "code",
   "execution_count": 5,
   "metadata": {},
   "outputs": [
    {
     "data": {
      "text/plain": [
       "<bos> i have been using this for about a week now and i have been using      10637\n",
       "<bos> i have been using this product for about a week now and i have been     6106\n",
       "<bos> i love these brushes ! i have been using them for about a week now       447\n",
       "<bos> i have been using these for about a week now and i have been using       371\n",
       "<bos> i love this color . i have been using it for about a week now            325\n",
       "                                                                             ...  \n",
       "<bos> i love the colors , i love the colors ! i love the color !                 1\n",
       "<bos> i love the color , i have been using the top coat for a couple             1\n",
       "<bos> i love the colors ! i have been using the nail polish for a couple         1\n",
       "<bos> i love these are great ! i have been using them for a week now             1\n",
       "<bos> i love this set ! i have been using the product for about a week           1\n",
       "Name: predicted_text, Length: 111, dtype: int64"
      ]
     },
     "execution_count": 5,
     "metadata": {},
     "output_type": "execute_result"
    }
   ],
   "source": [
    "df1['predicted_text'].value_counts()"
   ]
  },
  {
   "cell_type": "code",
   "execution_count": 2,
   "metadata": {},
   "outputs": [
    {
     "data": {
      "text/html": [
       "<div>\n",
       "<style scoped>\n",
       "    .dataframe tbody tr th:only-of-type {\n",
       "        vertical-align: middle;\n",
       "    }\n",
       "\n",
       "    .dataframe tbody tr th {\n",
       "        vertical-align: top;\n",
       "    }\n",
       "\n",
       "    .dataframe thead th {\n",
       "        text-align: right;\n",
       "    }\n",
       "</style>\n",
       "<table border=\"1\" class=\"dataframe\">\n",
       "  <thead>\n",
       "    <tr style=\"text-align: right;\">\n",
       "      <th></th>\n",
       "      <th>user</th>\n",
       "      <th>item</th>\n",
       "      <th>predicted_rating</th>\n",
       "      <th>real_rating</th>\n",
       "      <th>predicted_context</th>\n",
       "      <th>predicted_text</th>\n",
       "      <th>real_text</th>\n",
       "    </tr>\n",
       "  </thead>\n",
       "  <tbody>\n",
       "    <tr>\n",
       "      <th>0</th>\n",
       "      <td>A1PQFP6SAJ6D80</td>\n",
       "      <td>7806397051</td>\n",
       "      <td>4.13307</td>\n",
       "      <td>2.0</td>\n",
       "      <td>i this have love the</td>\n",
       "      <td>&lt;bos&gt; i have been using this</td>\n",
       "      <td>i really can ' t</td>\n",
       "    </tr>\n",
       "  </tbody>\n",
       "</table>\n",
       "</div>"
      ],
      "text/plain": [
       "             user        item  predicted_rating  real_rating  \\\n",
       "0  A1PQFP6SAJ6D80  7806397051           4.13307          2.0   \n",
       "\n",
       "      predicted_context                predicted_text         real_text  \n",
       "0  i this have love the  <bos> i have been using this  i really can ' t  "
      ]
     },
     "execution_count": 2,
     "metadata": {},
     "output_type": "execute_result"
    }
   ],
   "source": [
    "df2 = get_dataframe('train_id_2', 'result_id_1')\n",
    "\n",
    "df2.head(1)"
   ]
  },
  {
   "cell_type": "code",
   "execution_count": 4,
   "metadata": {},
   "outputs": [
    {
     "data": {
      "text/plain": [
       "<bos> i have been using this            18573\n",
       "<bos> i love these brushes .              565\n",
       "<bos> i have been using these             238\n",
       "<bos> i love this product .               139\n",
       "<bos> i love these . they                 131\n",
       "<bos> i love this color .                  72\n",
       "<bos> i love these lashes .                49\n",
       "<bos> i bought these brushes because       33\n",
       "<bos> i love this brush .                  32\n",
       "<bos> i love this stuff .                   6\n",
       "<bos> i love this palette .                 5\n",
       "<bos> i love this . i                       3\n",
       "<bos> i * * * *                             1\n",
       "<bos> i bought these because i              1\n",
       "<bos> i love this set .                     1\n",
       "<bos> i love these . i                      1\n",
       "Name: predicted_text, dtype: int64"
      ]
     },
     "execution_count": 4,
     "metadata": {},
     "output_type": "execute_result"
    }
   ],
   "source": [
    "df2['predicted_text'].value_counts()"
   ]
  },
  {
   "cell_type": "code",
   "execution_count": 3,
   "metadata": {},
   "outputs": [
    {
     "data": {
      "text/html": [
       "<div>\n",
       "<style scoped>\n",
       "    .dataframe tbody tr th:only-of-type {\n",
       "        vertical-align: middle;\n",
       "    }\n",
       "\n",
       "    .dataframe tbody tr th {\n",
       "        vertical-align: top;\n",
       "    }\n",
       "\n",
       "    .dataframe thead th {\n",
       "        text-align: right;\n",
       "    }\n",
       "</style>\n",
       "<table border=\"1\" class=\"dataframe\">\n",
       "  <thead>\n",
       "    <tr style=\"text-align: right;\">\n",
       "      <th></th>\n",
       "      <th>user</th>\n",
       "      <th>item</th>\n",
       "      <th>predicted_rating</th>\n",
       "      <th>real_rating</th>\n",
       "      <th>predicted_context</th>\n",
       "      <th>predicted_text</th>\n",
       "      <th>real_text</th>\n",
       "    </tr>\n",
       "  </thead>\n",
       "  <tbody>\n",
       "    <tr>\n",
       "      <th>0</th>\n",
       "      <td>A1PQFP6SAJ6D80</td>\n",
       "      <td>7806397051</td>\n",
       "      <td>3.936157</td>\n",
       "      <td>2.0</td>\n",
       "      <td>&lt;eos&gt; ! . it love for great the , '</td>\n",
       "      <td>&lt;bos&gt; love this product &lt;eos&gt; &lt;eos&gt; &lt;eos&gt; &lt;eos...</td>\n",
       "      <td>do not work on my face</td>\n",
       "    </tr>\n",
       "  </tbody>\n",
       "</table>\n",
       "</div>"
      ],
      "text/plain": [
       "             user        item  predicted_rating  real_rating  \\\n",
       "0  A1PQFP6SAJ6D80  7806397051          3.936157          2.0   \n",
       "\n",
       "                     predicted_context  \\\n",
       "0  <eos> ! . it love for great the , '   \n",
       "\n",
       "                                      predicted_text               real_text  \n",
       "0  <bos> love this product <eos> <eos> <eos> <eos...  do not work on my face  "
      ]
     },
     "execution_count": 3,
     "metadata": {},
     "output_type": "execute_result"
    }
   ],
   "source": [
    "df3 = get_dataframe('train_id_5', 'result_id_1')\n",
    "\n",
    "df3.head(1)"
   ]
  },
  {
   "cell_type": "code",
   "execution_count": 4,
   "metadata": {},
   "outputs": [
    {
     "data": {
      "text/plain": [
       "<bos> love this product <eos> <eos> <eos> <eos> <eos> <eos> <eos>    16718\n",
       "<bos> love it ! <eos> <eos> <eos> <eos> <eos> <eos> <eos>             3132\n",
       "Name: predicted_text, dtype: int64"
      ]
     },
     "execution_count": 4,
     "metadata": {},
     "output_type": "execute_result"
    }
   ],
   "source": [
    "df3['predicted_text'].value_counts()"
   ]
  },
  {
   "cell_type": "code",
   "execution_count": null,
   "metadata": {},
   "outputs": [],
   "source": []
  }
 ],
 "metadata": {
  "kernelspec": {
   "display_name": "Python 3",
   "language": "python",
   "name": "python3"
  },
  "language_info": {
   "codemirror_mode": {
    "name": "ipython",
    "version": 3
   },
   "file_extension": ".py",
   "mimetype": "text/x-python",
   "name": "python",
   "nbconvert_exporter": "python",
   "pygments_lexer": "ipython3",
   "version": "3.11.8"
  }
 },
 "nbformat": 4,
 "nbformat_minor": 2
}
