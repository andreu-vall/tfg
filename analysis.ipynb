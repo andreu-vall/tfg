{
 "cells": [
  {
   "cell_type": "code",
   "execution_count": 7,
   "metadata": {},
   "outputs": [
    {
     "data": {
      "text/html": [
       "<div>\n",
       "<style scoped>\n",
       "    .dataframe tbody tr th:only-of-type {\n",
       "        vertical-align: middle;\n",
       "    }\n",
       "\n",
       "    .dataframe tbody tr th {\n",
       "        vertical-align: top;\n",
       "    }\n",
       "\n",
       "    .dataframe thead th {\n",
       "        text-align: right;\n",
       "    }\n",
       "</style>\n",
       "<table border=\"1\" class=\"dataframe\">\n",
       "  <thead>\n",
       "    <tr style=\"text-align: right;\">\n",
       "      <th></th>\n",
       "      <th>user</th>\n",
       "      <th>item</th>\n",
       "      <th>predicted_rating</th>\n",
       "      <th>real_rating</th>\n",
       "      <th>predicted_context</th>\n",
       "      <th>predicted_text</th>\n",
       "      <th>real_text</th>\n",
       "    </tr>\n",
       "  </thead>\n",
       "  <tbody>\n",
       "    <tr>\n",
       "      <th>0</th>\n",
       "      <td>A1PQFP6SAJ6D80</td>\n",
       "      <td>7806397051</td>\n",
       "      <td>4.083532</td>\n",
       "      <td>2.0</td>\n",
       "      <td>! , the &lt;eos&gt; great</td>\n",
       "      <td>great product ! ! !</td>\n",
       "      <td>do not work on my &lt;cut&gt;</td>\n",
       "    </tr>\n",
       "  </tbody>\n",
       "</table>\n",
       "</div>"
      ],
      "text/plain": [
       "             user        item  predicted_rating  real_rating  \\\n",
       "0  A1PQFP6SAJ6D80  7806397051          4.083532          2.0   \n",
       "\n",
       "     predicted_context       predicted_text                real_text  \n",
       "0  ! , the <eos> great  great product ! ! !  do not work on my <cut>  "
      ]
     },
     "execution_count": 7,
     "metadata": {},
     "output_type": "execute_result"
    }
   ],
   "source": [
    "import json\n",
    "import pandas as pd\n",
    "\n",
    "# tinc resultats both en el test i el generate. el procediment de generar-los és molt diferent,\n",
    "# però els resultats del output que produeixen és pràcticament el mateix. per tant té sentit\n",
    "# analitzar-los junts. la diferència és que el test per predir cada token li dones sempre tota\n",
    "# la frase real, mentre que el generate no li dones res i executes el model autoregressivament\n",
    "\n",
    "def get_results_dataframe(train_id, result_id):\n",
    "    with open(f\"out/{train_id}/results/{result_id}.json\") as f:\n",
    "        results = json.load(f)\n",
    "\n",
    "    df = pd.DataFrame(results[\"results\"])\n",
    "    return df\n",
    "\n",
    "df1 = get_results_dataframe('train_id_3', 'result_id_3')\n",
    "\n",
    "df1.head(1)"
   ]
  },
  {
   "cell_type": "code",
   "execution_count": 8,
   "metadata": {},
   "outputs": [
    {
     "data": {
      "text/plain": [
       "great product ! ! !     18416\n",
       "works well , but not     1382\n",
       "great product ! !          39\n",
       "not the best for the       10\n",
       "great product !             3\n",
       "Name: predicted_text, dtype: int64"
      ]
     },
     "execution_count": 8,
     "metadata": {},
     "output_type": "execute_result"
    }
   ],
   "source": [
    "df1['predicted_text'].value_counts()"
   ]
  },
  {
   "cell_type": "code",
   "execution_count": 9,
   "metadata": {},
   "outputs": [
    {
     "data": {
      "text/html": [
       "<div>\n",
       "<style scoped>\n",
       "    .dataframe tbody tr th:only-of-type {\n",
       "        vertical-align: middle;\n",
       "    }\n",
       "\n",
       "    .dataframe tbody tr th {\n",
       "        vertical-align: top;\n",
       "    }\n",
       "\n",
       "    .dataframe thead th {\n",
       "        text-align: right;\n",
       "    }\n",
       "</style>\n",
       "<table border=\"1\" class=\"dataframe\">\n",
       "  <thead>\n",
       "    <tr style=\"text-align: right;\">\n",
       "      <th></th>\n",
       "      <th>user</th>\n",
       "      <th>item</th>\n",
       "      <th>predicted_rating</th>\n",
       "      <th>real_rating</th>\n",
       "      <th>predicted_context</th>\n",
       "      <th>predicted_text</th>\n",
       "      <th>real_text</th>\n",
       "    </tr>\n",
       "  </thead>\n",
       "  <tbody>\n",
       "    <tr>\n",
       "      <th>0</th>\n",
       "      <td>A1PQFP6SAJ6D80</td>\n",
       "      <td>7806397051</td>\n",
       "      <td>4.083532</td>\n",
       "      <td>2.0</td>\n",
       "      <td>! , the &lt;eos&gt; great</td>\n",
       "      <td>great not buy for the &lt;cut&gt;</td>\n",
       "      <td>do not work on my &lt;cut&gt;</td>\n",
       "    </tr>\n",
       "  </tbody>\n",
       "</table>\n",
       "</div>"
      ],
      "text/plain": [
       "             user        item  predicted_rating  real_rating  \\\n",
       "0  A1PQFP6SAJ6D80  7806397051          4.083532          2.0   \n",
       "\n",
       "     predicted_context               predicted_text                real_text  \n",
       "0  ! , the <eos> great  great not buy for the <cut>  do not work on my <cut>  "
      ]
     },
     "execution_count": 9,
     "metadata": {},
     "output_type": "execute_result"
    }
   ],
   "source": [
    "# Hauria de permetre de combinar les prediccions des de diferents fitxers? O fer un procediment q et digui la info?\n",
    "# Les úniques coses que canviaran seran el predicted_text pràcticament, si són del mateix model\n",
    "\n",
    "def get_test_dataframe(train_id):\n",
    "    with open(f\"out/{train_id}/test.json\") as f:\n",
    "        results = json.load(f)['results']\n",
    "\n",
    "    df = pd.DataFrame(results)\n",
    "    return df\n",
    "\n",
    "df2 = get_test_dataframe('train_id_3')\n",
    "\n",
    "# LOL clarament hi ha un leakage de la òstia\n",
    "\n",
    "df2.head(1)"
   ]
  },
  {
   "cell_type": "code",
   "execution_count": 4,
   "metadata": {},
   "outputs": [
    {
     "data": {
      "text/plain": [
       "<bos> <bos> <bos> <bos> <bos> <bos>    19850\n",
       "Name: predicted_text, dtype: int64"
      ]
     },
     "execution_count": 4,
     "metadata": {},
     "output_type": "execute_result"
    }
   ],
   "source": [
    "df1['predicted_text'].value_counts() # BRUH what's this bullshit of generation. Canviant la màscara s'ha arruïnat?\n",
    "# Potser el <bos> l'hauria de tractar com cosa especial i forçar a posar-lo? Possiblement sí, pq és kinda stupid que\n",
    "# el model em generi tot <bos>\n",
    "\n",
    "# amb 3 èpoques ja ha après a no fer aquesta bullshit though\n",
    "\n",
    "# tot i així és kinda inútil gastar recursos en predir-jo\n",
    "\n",
    "# wait pel generate encara fa aquesta bullshit? No entenc pq???? He fet algo malament? En el generate\n",
    "\n",
    "# No acaba de tenir sentit per mi que un faci una cosa i l'altre una altra. Ja que com a mínim en el step 2\n",
    "# haurien de ser exactament iguals?"
   ]
  },
  {
   "cell_type": "code",
   "execution_count": 2,
   "metadata": {},
   "outputs": [
    {
     "data": {
      "text/html": [
       "<div>\n",
       "<style scoped>\n",
       "    .dataframe tbody tr th:only-of-type {\n",
       "        vertical-align: middle;\n",
       "    }\n",
       "\n",
       "    .dataframe tbody tr th {\n",
       "        vertical-align: top;\n",
       "    }\n",
       "\n",
       "    .dataframe thead th {\n",
       "        text-align: right;\n",
       "    }\n",
       "</style>\n",
       "<table border=\"1\" class=\"dataframe\">\n",
       "  <thead>\n",
       "    <tr style=\"text-align: right;\">\n",
       "      <th></th>\n",
       "      <th>user</th>\n",
       "      <th>item</th>\n",
       "      <th>predicted_rating</th>\n",
       "      <th>real_rating</th>\n",
       "      <th>predicted_context</th>\n",
       "      <th>predicted_text</th>\n",
       "      <th>real_text</th>\n",
       "    </tr>\n",
       "  </thead>\n",
       "  <tbody>\n",
       "    <tr>\n",
       "      <th>0</th>\n",
       "      <td>A1PQFP6SAJ6D80</td>\n",
       "      <td>7806397051</td>\n",
       "      <td>4.13307</td>\n",
       "      <td>2.0</td>\n",
       "      <td>i this have love the</td>\n",
       "      <td>&lt;bos&gt; i have been using this</td>\n",
       "      <td>i really can ' t</td>\n",
       "    </tr>\n",
       "  </tbody>\n",
       "</table>\n",
       "</div>"
      ],
      "text/plain": [
       "             user        item  predicted_rating  real_rating  \\\n",
       "0  A1PQFP6SAJ6D80  7806397051           4.13307          2.0   \n",
       "\n",
       "      predicted_context                predicted_text         real_text  \n",
       "0  i this have love the  <bos> i have been using this  i really can ' t  "
      ]
     },
     "execution_count": 2,
     "metadata": {},
     "output_type": "execute_result"
    }
   ],
   "source": [
    "df2 = get_dataframe('train_id_2', 'result_id_1')\n",
    "\n",
    "df2.head(1)"
   ]
  },
  {
   "cell_type": "code",
   "execution_count": 4,
   "metadata": {},
   "outputs": [
    {
     "data": {
      "text/plain": [
       "<bos> i have been using this            18573\n",
       "<bos> i love these brushes .              565\n",
       "<bos> i have been using these             238\n",
       "<bos> i love this product .               139\n",
       "<bos> i love these . they                 131\n",
       "<bos> i love this color .                  72\n",
       "<bos> i love these lashes .                49\n",
       "<bos> i bought these brushes because       33\n",
       "<bos> i love this brush .                  32\n",
       "<bos> i love this stuff .                   6\n",
       "<bos> i love this palette .                 5\n",
       "<bos> i love this . i                       3\n",
       "<bos> i * * * *                             1\n",
       "<bos> i bought these because i              1\n",
       "<bos> i love this set .                     1\n",
       "<bos> i love these . i                      1\n",
       "Name: predicted_text, dtype: int64"
      ]
     },
     "execution_count": 4,
     "metadata": {},
     "output_type": "execute_result"
    }
   ],
   "source": [
    "df2['predicted_text'].value_counts()"
   ]
  },
  {
   "cell_type": "code",
   "execution_count": 3,
   "metadata": {},
   "outputs": [
    {
     "data": {
      "text/html": [
       "<div>\n",
       "<style scoped>\n",
       "    .dataframe tbody tr th:only-of-type {\n",
       "        vertical-align: middle;\n",
       "    }\n",
       "\n",
       "    .dataframe tbody tr th {\n",
       "        vertical-align: top;\n",
       "    }\n",
       "\n",
       "    .dataframe thead th {\n",
       "        text-align: right;\n",
       "    }\n",
       "</style>\n",
       "<table border=\"1\" class=\"dataframe\">\n",
       "  <thead>\n",
       "    <tr style=\"text-align: right;\">\n",
       "      <th></th>\n",
       "      <th>user</th>\n",
       "      <th>item</th>\n",
       "      <th>predicted_rating</th>\n",
       "      <th>real_rating</th>\n",
       "      <th>predicted_context</th>\n",
       "      <th>predicted_text</th>\n",
       "      <th>real_text</th>\n",
       "    </tr>\n",
       "  </thead>\n",
       "  <tbody>\n",
       "    <tr>\n",
       "      <th>0</th>\n",
       "      <td>A1PQFP6SAJ6D80</td>\n",
       "      <td>7806397051</td>\n",
       "      <td>3.936157</td>\n",
       "      <td>2.0</td>\n",
       "      <td>&lt;eos&gt; ! . it love for great the , '</td>\n",
       "      <td>&lt;bos&gt; love this product &lt;eos&gt; &lt;eos&gt; &lt;eos&gt; &lt;eos...</td>\n",
       "      <td>do not work on my face</td>\n",
       "    </tr>\n",
       "  </tbody>\n",
       "</table>\n",
       "</div>"
      ],
      "text/plain": [
       "             user        item  predicted_rating  real_rating  \\\n",
       "0  A1PQFP6SAJ6D80  7806397051          3.936157          2.0   \n",
       "\n",
       "                     predicted_context  \\\n",
       "0  <eos> ! . it love for great the , '   \n",
       "\n",
       "                                      predicted_text               real_text  \n",
       "0  <bos> love this product <eos> <eos> <eos> <eos...  do not work on my face  "
      ]
     },
     "execution_count": 3,
     "metadata": {},
     "output_type": "execute_result"
    }
   ],
   "source": [
    "df3 = get_dataframe('train_id_5', 'result_id_1')\n",
    "\n",
    "df3.head(1)"
   ]
  },
  {
   "cell_type": "code",
   "execution_count": 4,
   "metadata": {},
   "outputs": [
    {
     "data": {
      "text/plain": [
       "<bos> love this product <eos> <eos> <eos> <eos> <eos> <eos> <eos>    16718\n",
       "<bos> love it ! <eos> <eos> <eos> <eos> <eos> <eos> <eos>             3132\n",
       "Name: predicted_text, dtype: int64"
      ]
     },
     "execution_count": 4,
     "metadata": {},
     "output_type": "execute_result"
    }
   ],
   "source": [
    "df3['predicted_text'].value_counts()"
   ]
  },
  {
   "cell_type": "code",
   "execution_count": null,
   "metadata": {},
   "outputs": [],
   "source": []
  }
 ],
 "metadata": {
  "kernelspec": {
   "display_name": "Python 3",
   "language": "python",
   "name": "python3"
  },
  "language_info": {
   "codemirror_mode": {
    "name": "ipython",
    "version": 3
   },
   "file_extension": ".py",
   "mimetype": "text/x-python",
   "name": "python",
   "nbconvert_exporter": "python",
   "pygments_lexer": "ipython3",
   "version": "3.11.8"
  }
 },
 "nbformat": 4,
 "nbformat_minor": 2
}
