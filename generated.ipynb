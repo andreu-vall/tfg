{
 "cells": [
  {
   "cell_type": "code",
   "execution_count": 1,
   "metadata": {},
   "outputs": [],
   "source": [
    "def read_peter_generated(model):\n",
    "\n",
    "    lists = [[] for i in range(4)]\n",
    "    with open(f\"out/{model}/generated.txt\", 'r') as f:\n",
    "        for i, line in enumerate(f):\n",
    "            lists[i % 4].append(line.rstrip('\\n'))\n",
    "\n",
    "    real, context, predict, _ = lists\n",
    "\n",
    "    return real, context, predict"
   ]
  },
  {
   "cell_type": "markdown",
   "metadata": {},
   "source": [
    "## Amazon clothing"
   ]
  },
  {
   "cell_type": "code",
   "execution_count": 3,
   "metadata": {},
   "outputs": [
    {
     "data": {
      "text/plain": [
       "[('i bought a second pair for a pair of shoes <eos> <eos> <eos> <eos> <eos>',\n",
       "  17918),\n",
       " ('i bought a second pair for a pair <eos> <eos> <eos> <eos> <eos> <eos> <eos>',\n",
       "  4)]"
      ]
     },
     "execution_count": 3,
     "metadata": {},
     "output_type": "execute_result"
    }
   ],
   "source": [
    "from collections import Counter\n",
    "\n",
    "# Amb una època ha après simplement el comentari més genèric de tots\n",
    "\n",
    "Counter(read_peter_generated(\"bo1epochs\")[2]).most_common(5)"
   ]
  },
  {
   "cell_type": "code",
   "execution_count": 4,
   "metadata": {},
   "outputs": [
    {
     "data": {
      "text/plain": [
       "[('i have a wide foot', 17923)]"
      ]
     },
     "execution_count": 4,
     "metadata": {},
     "output_type": "execute_result"
    }
   ],
   "source": [
    "Counter(read_peter_generated(\"amz-clothing-1epoch\")[2]).most_common(5)"
   ]
  },
  {
   "cell_type": "markdown",
   "metadata": {},
   "source": [
    "## Tripadvisor"
   ]
  },
  {
   "cell_type": "code",
   "execution_count": 5,
   "metadata": {},
   "outputs": [
    {
     "data": {
      "text/plain": [
       "[('the hotel is very close to the airport', 31053),\n",
       " ('the hotel is located in the city', 945),\n",
       " ('the hotel is very close to the airport and the hotel is very close to', 5)]"
      ]
     },
     "execution_count": 5,
     "metadata": {},
     "output_type": "execute_result"
    }
   ],
   "source": [
    "Counter(read_peter_generated(\"tripadvisor1\")[2]).most_common(5)"
   ]
  },
  {
   "cell_type": "code",
   "execution_count": 6,
   "metadata": {},
   "outputs": [
    {
     "data": {
      "text/plain": [
       "[('the staff were very helpful and helpful', 31999),\n",
       " ('the bed was very comfortable and the bathroom was very large', 2),\n",
       " ('the front desk staff was very helpful and helpful', 2)]"
      ]
     },
     "execution_count": 6,
     "metadata": {},
     "output_type": "execute_result"
    }
   ],
   "source": [
    "Counter(read_peter_generated(\"tripadvisor1-noshuf\")[2]).most_common(5)"
   ]
  },
  {
   "cell_type": "code",
   "execution_count": null,
   "metadata": {},
   "outputs": [],
   "source": []
  }
 ],
 "metadata": {
  "kernelspec": {
   "display_name": "Python 3",
   "language": "python",
   "name": "python3"
  },
  "language_info": {
   "codemirror_mode": {
    "name": "ipython",
    "version": 3
   },
   "file_extension": ".py",
   "mimetype": "text/x-python",
   "name": "python",
   "nbconvert_exporter": "python",
   "pygments_lexer": "ipython3",
   "version": "3.11.8"
  }
 },
 "nbformat": 4,
 "nbformat_minor": 2
}
