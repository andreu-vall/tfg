{
 "cells": [
  {
   "cell_type": "code",
   "execution_count": 14,
   "metadata": {},
   "outputs": [],
   "source": [
    "def read_peter_generated(model):\n",
    "\n",
    "    lists = [[] for i in range(4)]\n",
    "    with open(f\"out/{model}/generated.txt\", 'r') as f:\n",
    "        for i, line in enumerate(f):\n",
    "            lists[i % 4].append(line.rstrip('\\n'))\n",
    "\n",
    "    real, context, predict, _ = lists\n",
    "\n",
    "    return real, context, predict"
   ]
  },
  {
   "cell_type": "markdown",
   "metadata": {},
   "source": [
    "## Amazon clothing"
   ]
  },
  {
   "cell_type": "code",
   "execution_count": 9,
   "metadata": {},
   "outputs": [
    {
     "data": {
      "text/plain": [
       "[('i have a wide foot', 17923)]"
      ]
     },
     "execution_count": 9,
     "metadata": {},
     "output_type": "execute_result"
    }
   ],
   "source": [
    "from collections import Counter\n",
    "\n",
    "Counter(read_peter_generated(\"amz-clothing\")[2]).most_common(5)"
   ]
  },
  {
   "cell_type": "code",
   "execution_count": 10,
   "metadata": {},
   "outputs": [
    {
     "data": {
      "text/plain": [
       "[('legsas stretchable changes km agle walked common reg comb introduce aside botty adult grounds online--it',\n",
       "  127),\n",
       " ('stretchable 14x derby accidently opted botty evidence botty evidence botty evidence botty believe lbsthese great2',\n",
       "  101),\n",
       " ('china hallways volume-wise facilitates teeth suit perfectily rink considering 1970 tis tennies lano fit& pesky',\n",
       "  90),\n",
       " ('china hallways footlocker 1996 slash reflected loopy elegantand simplytone ordinary recital dislikes fom top-not uppers',\n",
       "  88),\n",
       " ('china hallways footlocker illuminates murano semi-soft 36x34lee presses maneuvering arthritis constantly unibreast slid prime feminine-looking',\n",
       "  85)]"
      ]
     },
     "execution_count": 10,
     "metadata": {},
     "output_type": "execute_result"
    }
   ],
   "source": [
    "Counter(read_peter_generated(\"amz-clothing-0\")[2]).most_common(5)"
   ]
  },
  {
   "cell_type": "markdown",
   "metadata": {},
   "source": [
    "## Amazon Beauty"
   ]
  },
  {
   "cell_type": "code",
   "execution_count": 11,
   "metadata": {},
   "outputs": [
    {
     "data": {
      "text/plain": [
       "[('I love this product I have been using it for a few years and I', 19649),\n",
       " ('Great product I love this product and I have been using it for a few', 191),\n",
       " ('Great product I love this product I have been using it for a few years', 6),\n",
       " ('I love this product I have been using this product for a few years and', 4)]"
      ]
     },
     "execution_count": 11,
     "metadata": {},
     "output_type": "execute_result"
    }
   ],
   "source": [
    "Counter(read_peter_generated(\"amz-beauty\")[2]).most_common(5)"
   ]
  },
  {
   "cell_type": "code",
   "execution_count": 15,
   "metadata": {},
   "outputs": [
    {
     "data": {
      "text/plain": [
       "[('Great for sensitive skin This is a great product for sensitive skin. It is a',\n",
       "  7707),\n",
       " ('Great for <unk> This is a great product for my hair and I am a', 3359),\n",
       " ('Great for <unk> This is a great product for my <unk> hair. It is a', 3309),\n",
       " ('Great for dry skin This is a great product for sensitive skin. It is a',\n",
       "  949),\n",
       " ('Great for <unk> This is a great product for my hair. It is a great', 699)]"
      ]
     },
     "execution_count": 15,
     "metadata": {},
     "output_type": "execute_result"
    }
   ],
   "source": [
    "Counter(read_peter_generated(\"amz-beauty-3epoch\")[2]).most_common(5)"
   ]
  },
  {
   "cell_type": "markdown",
   "metadata": {},
   "source": [
    "## Tripadvisor"
   ]
  },
  {
   "cell_type": "code",
   "execution_count": 5,
   "metadata": {},
   "outputs": [
    {
     "data": {
      "text/plain": [
       "[('the hotel is very close to the airport', 31053),\n",
       " ('the hotel is located in the city', 945),\n",
       " ('the hotel is very close to the airport and the hotel is very close to', 5)]"
      ]
     },
     "execution_count": 5,
     "metadata": {},
     "output_type": "execute_result"
    }
   ],
   "source": [
    "Counter(read_peter_generated(\"tripadvisor1\")[2]).most_common(5)"
   ]
  },
  {
   "cell_type": "code",
   "execution_count": 6,
   "metadata": {},
   "outputs": [
    {
     "data": {
      "text/plain": [
       "[('the staff were very helpful and helpful', 31999),\n",
       " ('the bed was very comfortable and the bathroom was very large', 2),\n",
       " ('the front desk staff was very helpful and helpful', 2)]"
      ]
     },
     "execution_count": 6,
     "metadata": {},
     "output_type": "execute_result"
    }
   ],
   "source": [
    "Counter(read_peter_generated(\"tripadvisor1-noshuf\")[2]).most_common(5)"
   ]
  },
  {
   "cell_type": "code",
   "execution_count": null,
   "metadata": {},
   "outputs": [],
   "source": []
  }
 ],
 "metadata": {
  "kernelspec": {
   "display_name": "Python 3",
   "language": "python",
   "name": "python3"
  },
  "language_info": {
   "codemirror_mode": {
    "name": "ipython",
    "version": 3
   },
   "file_extension": ".py",
   "mimetype": "text/x-python",
   "name": "python",
   "nbconvert_exporter": "python",
   "pygments_lexer": "ipython3",
   "version": "3.11.8"
  }
 },
 "nbformat": 4,
 "nbformat_minor": 2
}
