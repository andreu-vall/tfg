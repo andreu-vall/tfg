{
 "cells": [
  {
   "cell_type": "code",
   "execution_count": 1,
   "metadata": {},
   "outputs": [],
   "source": [
    "import pickle\n",
    "\n",
    "data_path = 'data/amazon-clothing'\n",
    "with open(f'{data_path}/reviews.pickle', 'rb') as f:\n",
    "    reviews = pickle.load(f)\n",
    "\n",
    "data_length = len(reviews)"
   ]
  },
  {
   "cell_type": "code",
   "execution_count": 4,
   "metadata": {},
   "outputs": [],
   "source": [
    "from utils.data import MySplitDataset\n",
    "\n",
    "index_dir = 2\n",
    "\n",
    "# Load existing split (format exactament igual que el que usava el PETER)\n",
    "existing_split = MySplitDataset(data_path, data_length, index_dir, load_split=True)"
   ]
  },
  {
   "cell_type": "code",
   "execution_count": 9,
   "metadata": {},
   "outputs": [],
   "source": [
    "index_dir = 3\n",
    "seed = 42\n",
    "\n",
    "# Create new split (igual que el PETER)\n",
    "new_split = MySplitDataset(data_path, data_length, index_dir, load_split=False,\n",
    "                 train_ratio=0.8, validation_ratio=0.1, test_ratio=0.1, seed=seed)"
   ]
  },
  {
   "cell_type": "code",
   "execution_count": null,
   "metadata": {},
   "outputs": [],
   "source": []
  }
 ],
 "metadata": {
  "kernelspec": {
   "display_name": "Python 3",
   "language": "python",
   "name": "python3"
  },
  "language_info": {
   "codemirror_mode": {
    "name": "ipython",
    "version": 3
   },
   "file_extension": ".py",
   "mimetype": "text/x-python",
   "name": "python",
   "nbconvert_exporter": "python",
   "pygments_lexer": "ipython3",
   "version": "3.11.8"
  }
 },
 "nbformat": 4,
 "nbformat_minor": 2
}
