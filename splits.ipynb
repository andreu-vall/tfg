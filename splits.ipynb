{
 "cells": [
  {
   "cell_type": "markdown",
   "metadata": {},
   "source": [
    "### 1. Crea split"
   ]
  },
  {
   "cell_type": "code",
   "execution_count": null,
   "metadata": {},
   "outputs": [
    {
     "data": {
      "text/html": [
       "<div>\n",
       "<style scoped>\n",
       "    .dataframe tbody tr th:only-of-type {\n",
       "        vertical-align: middle;\n",
       "    }\n",
       "\n",
       "    .dataframe tbody tr th {\n",
       "        vertical-align: top;\n",
       "    }\n",
       "\n",
       "    .dataframe thead th {\n",
       "        text-align: right;\n",
       "    }\n",
       "</style>\n",
       "<table border=\"1\" class=\"dataframe\">\n",
       "  <thead>\n",
       "    <tr style=\"text-align: right;\">\n",
       "      <th></th>\n",
       "      <th>user</th>\n",
       "      <th>item</th>\n",
       "      <th>rating</th>\n",
       "      <th>text</th>\n",
       "    </tr>\n",
       "  </thead>\n",
       "  <tbody>\n",
       "    <tr>\n",
       "      <th>0</th>\n",
       "      <td>A2M2APVYIB2U6K</td>\n",
       "      <td>0000031887</td>\n",
       "      <td>5</td>\n",
       "      <td>or high quality skirt</td>\n",
       "    </tr>\n",
       "  </tbody>\n",
       "</table>\n",
       "</div>"
      ],
      "text/plain": [
       "             user        item  rating                   text\n",
       "0  A2M2APVYIB2U6K  0000031887       5  or high quality skirt"
      ]
     },
     "metadata": {},
     "output_type": "display_data"
    }
   ],
   "source": [
    "# Load the data\n",
    "\n",
    "import pandas as pd\n",
    "\n",
    "dataset = 'amz-clothing'\n",
    "data_path = f'data/{dataset}'\n",
    "\n",
    "df = pd.read_csv(f'{data_path}/reviews.csv')\n",
    "\n",
    "df.head(1)"
   ]
  },
  {
   "cell_type": "code",
   "execution_count": 4,
   "metadata": {},
   "outputs": [],
   "source": [
    "# Create new split, igual que el PETER però ordenant els índexs.\n",
    "# Només cal saber la mida de les dades perquè es fa només el split dels índexs\n",
    "\n",
    "from utils.data import MySplitDataset\n",
    "\n",
    "index_dir = 4\n",
    "seed = 42\n",
    "\n",
    "new_split = MySplitDataset(data_path, len(df), index_dir, load_split=False,\n",
    "                           train_ratio=0.8, valid_ratio=0.1, test_ratio=0.1, seed=seed)"
   ]
  },
  {
   "cell_type": "markdown",
   "metadata": {},
   "source": [
    "### 2. Carrega les dades i aplica un split"
   ]
  },
  {
   "cell_type": "code",
   "execution_count": 3,
   "metadata": {},
   "outputs": [
    {
     "name": "stdout",
     "output_type": "stream",
     "text": [
      "now length is 20004\n"
     ]
    }
   ],
   "source": [
    "# Carrega i transforma les dades pq pugui usar torch\n",
    "\n",
    "dataset = 'amz-clothing'\n",
    "data_path = f'data/{dataset}'\n",
    "\n",
    "from torch.utils.data import DataLoader, Subset\n",
    "from utils.data import MyDataset\n",
    "import torch\n",
    "\n",
    "batch_size = 128\n",
    "words = 15\n",
    "vocab_size = 20_000\n",
    "\n",
    "def collate_fn(batch):\n",
    "    return [torch.tensor(x) for x in zip(*batch)]\n",
    "\n",
    "data = MyDataset(data_path, words, vocab_size)"
   ]
  },
  {
   "cell_type": "code",
   "execution_count": 4,
   "metadata": {},
   "outputs": [
    {
     "data": {
      "text/plain": [
       "[torch.Size([128]),\n",
       " torch.Size([128]),\n",
       " torch.Size([128]),\n",
       " torch.Size([128, 17])]"
      ]
     },
     "execution_count": 4,
     "metadata": {},
     "output_type": "execute_result"
    }
   ],
   "source": [
    "# Aplica un split\n",
    "\n",
    "from utils.data import MySplitDataset\n",
    "\n",
    "index_dir = 1\n",
    "\n",
    "existing_split = MySplitDataset(data_path, len(df), index_dir, load_split=True)\n",
    "\n",
    "train_data = Subset(data, existing_split.train)\n",
    "train_dataloader = DataLoader(train_data, batch_size=batch_size, shuffle=True, collate_fn=collate_fn)\n",
    "\n",
    "batch = next(iter(train_dataloader))\n",
    "[b.shape for b in batch] # user, item, rating, text"
   ]
  },
  {
   "cell_type": "code",
   "execution_count": null,
   "metadata": {},
   "outputs": [],
   "source": []
  }
 ],
 "metadata": {
  "kernelspec": {
   "display_name": "Python 3",
   "language": "python",
   "name": "python3"
  },
  "language_info": {
   "codemirror_mode": {
    "name": "ipython",
    "version": 3
   },
   "file_extension": ".py",
   "mimetype": "text/x-python",
   "name": "python",
   "nbconvert_exporter": "python",
   "pygments_lexer": "ipython3",
   "version": "3.11.8"
  }
 },
 "nbformat": 4,
 "nbformat_minor": 2
}
