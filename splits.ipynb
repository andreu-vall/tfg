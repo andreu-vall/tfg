{
 "cells": [
  {
   "cell_type": "markdown",
   "metadata": {},
   "source": [
    "### 1. Carrega les dades"
   ]
  },
  {
   "cell_type": "code",
   "execution_count": 4,
   "metadata": {},
   "outputs": [
    {
     "name": "stdout",
     "output_type": "stream",
     "text": [
      "is the constructor being called?\n",
      "[2024-05-12 15:26:07.825037]: Loading csv...\n",
      "[2024-05-12 15:26:09.406014]: Cutting text\n",
      "[2024-05-12 15:26:12.628019]: Creating entities\n",
      "nº of words: 100378\n",
      "total count: 2968535\n",
      "[2024-05-12 15:26:14.016015]: Keeping only most frequent words\n",
      "nº of words: 20000\n",
      "total count: 2859477\n",
      "[2024-05-12 15:26:14.165048]: Transforming data\n",
      "[2024-05-12 15:26:36.552120]: Data ready\n"
     ]
    }
   ],
   "source": [
    "from utils.data import MyDataset\n",
    "\n",
    "# The first time that a Dataset with a text_max_words and vocab_size is executed,\n",
    "# it needs to transform the text data into a sequence of integers. As it takes\n",
    "# around 20 seconds and is quite painful to wait for it every time that I am repeating\n",
    "# a training for test purposes, I've saved only the necessary and pickled it\n",
    "\n",
    "data_path = f'data/amz-beauty'\n",
    "text_max_words = 15\n",
    "vocab_size = 20_000\n",
    "\n",
    "data = MyDataset.load_or_create(data_path, text_max_words, vocab_size)"
   ]
  },
  {
   "cell_type": "markdown",
   "metadata": {},
   "source": [
    "### (2. Crea un nou split)"
   ]
  },
  {
   "cell_type": "code",
   "execution_count": null,
   "metadata": {},
   "outputs": [],
   "source": [
    "from utils.data import MySplitDataset\n",
    "\n",
    "new_index_dir = 5\n",
    "seed = 42\n",
    "\n",
    "# Només es necessita el path i la length de la data. Igual que el PETER però ordenant els índexs.\n",
    "new_split = MySplitDataset(data_path, len(data), new_index_dir, load_split=False, seed=seed)"
   ]
  },
  {
   "cell_type": "markdown",
   "metadata": {},
   "source": [
    "### 3. Carrega un split i itera train"
   ]
  },
  {
   "cell_type": "code",
   "execution_count": 4,
   "metadata": {},
   "outputs": [
    {
     "ename": "NameError",
     "evalue": "name 'data_path' is not defined",
     "output_type": "error",
     "traceback": [
      "\u001b[1;31m---------------------------------------------------------------------------\u001b[0m",
      "\u001b[1;31mNameError\u001b[0m                                 Traceback (most recent call last)",
      "Cell \u001b[1;32mIn[4], line 6\u001b[0m\n\u001b[0;32m      3\u001b[0m \u001b[38;5;28;01mimport\u001b[39;00m \u001b[38;5;21;01mtorch\u001b[39;00m\n\u001b[0;32m      5\u001b[0m index_dir \u001b[38;5;241m=\u001b[39m \u001b[38;5;241m1\u001b[39m\n\u001b[1;32m----> 6\u001b[0m existing_split \u001b[38;5;241m=\u001b[39m MySplitDataset(\u001b[43mdata_path\u001b[49m, \u001b[38;5;28mlen\u001b[39m(data), index_dir, load_split\u001b[38;5;241m=\u001b[39m\u001b[38;5;28;01mTrue\u001b[39;00m)\n\u001b[0;32m      7\u001b[0m train_data \u001b[38;5;241m=\u001b[39m Subset(data, existing_split\u001b[38;5;241m.\u001b[39mtrain)\n\u001b[0;32m      9\u001b[0m batch_size \u001b[38;5;241m=\u001b[39m \u001b[38;5;241m128\u001b[39m\n",
      "\u001b[1;31mNameError\u001b[0m: name 'data_path' is not defined"
     ]
    }
   ],
   "source": [
    "from torch.utils.data import DataLoader, Subset\n",
    "from utils.data import MySplitDataset\n",
    "import torch\n",
    "\n",
    "data_path = f'data/amz-beauty'\n",
    "text_max_words = 15\n",
    "vocab_size = 20_000\n",
    "\n",
    "data = MyDataset.load_or_create(data_path, text_max_words, vocab_size)\n",
    "\n",
    "index_dir = 1\n",
    "existing_split = MySplitDataset(data_path, len(data), index_dir, load_split=True)\n",
    "train_data = Subset(data, existing_split.train)\n",
    "\n",
    "batch_size = 128\n",
    "seed = 42\n",
    "torch.manual_seed(seed)\n",
    "train_dataloader = DataLoader(train_data, batch_size=batch_size, shuffle=True)\n",
    "\n",
    "batch = next(iter(train_dataloader))\n",
    "assert len(batch) == 4\n",
    "user, item, rating, text = batch\n",
    "\n",
    "print(user.shape, item.shape, rating.shape, text.shape)"
   ]
  },
  {
   "cell_type": "code",
   "execution_count": null,
   "metadata": {},
   "outputs": [],
   "source": []
  }
 ],
 "metadata": {
  "kernelspec": {
   "display_name": "Python 3",
   "language": "python",
   "name": "python3"
  },
  "language_info": {
   "codemirror_mode": {
    "name": "ipython",
    "version": 3
   },
   "file_extension": ".py",
   "mimetype": "text/x-python",
   "name": "python",
   "nbconvert_exporter": "python",
   "pygments_lexer": "ipython3",
   "version": "3.11.8"
  }
 },
 "nbformat": 4,
 "nbformat_minor": 2
}
