{
 "cells": [
  {
   "cell_type": "code",
   "execution_count": 1,
   "metadata": {},
   "outputs": [
    {
     "name": "stdout",
     "output_type": "stream",
     "text": [
      "exists, loading it\n"
     ]
    }
   ],
   "source": [
    "from utils.andreu import MyDataset\n",
    "\n",
    "# The first time that a Dataset with a text_max_words and vocab_size is executed,\n",
    "# it needs to transform the text data into a sequence of integers. As it takes\n",
    "# around 20 seconds and is quite painful to wait for it every time that I am repeating\n",
    "# a training for test purposes, I've saved only the necessary and pickled it\n",
    "\n",
    "data_path = f'data/amz-beauty-review'\n",
    "text_max_words = 15\n",
    "vocab_size = 20_000\n",
    "\n",
    "a = MyDataset.load_or_create_and_save(data_path, text_max_words, vocab_size)"
   ]
  },
  {
   "cell_type": "code",
   "execution_count": 8,
   "metadata": {},
   "outputs": [
    {
     "name": "stdout",
     "output_type": "stream",
     "text": [
      "exists, loading it\n"
     ]
    }
   ],
   "source": [
    "from utils.andreu import MyDataset\n",
    "\n",
    "data_path = f'data/amz-beauty'\n",
    "text_max_words = 15\n",
    "vocab_size = 20_000\n",
    "\n",
    "a = MyDataset.load_or_create_and_save(data_path, text_max_words, vocab_size)"
   ]
  },
  {
   "cell_type": "code",
   "execution_count": 11,
   "metadata": {},
   "outputs": [
    {
     "data": {
      "text/plain": [
       "\"Don't waste your money Very oily and creamy. Not at all what I expected... ordered\""
      ]
     },
     "execution_count": 11,
     "metadata": {},
     "output_type": "execute_result"
    }
   ],
   "source": [
    "a.untokenize_text(a[0][3])"
   ]
  },
  {
   "cell_type": "code",
   "execution_count": 6,
   "metadata": {},
   "outputs": [
    {
     "data": {
      "text/plain": [
       "{'user': 'A1YJEY40YUW4SE',\n",
       " 'item': '7806397051',\n",
       " 'rating': 1.0,\n",
       " 'text': \"Don't waste your money Very oily and creamy. Not at all what I expected... ordered\"}"
      ]
     },
     "execution_count": 6,
     "metadata": {},
     "output_type": "execute_result"
    }
   ],
   "source": [
    "a.untransform_review(a[0])"
   ]
  },
  {
   "cell_type": "code",
   "execution_count": 3,
   "metadata": {},
   "outputs": [
    {
     "name": "stdout",
     "output_type": "stream",
     "text": [
      "exists, loading it\n"
     ]
    }
   ],
   "source": [
    "data_path, words, vocab_size = 'data/amz-beauty', 15, 20_000\n",
    "\n",
    "mydata = MyDataset.load_or_create_and_save(data_path, words, vocab_size)"
   ]
  },
  {
   "cell_type": "code",
   "execution_count": 4,
   "metadata": {},
   "outputs": [],
   "source": [
    "from utils.andreu import MySplitDataset\n",
    "\n",
    "index_dir = 1\n",
    "\n",
    "mysplitdata = MySplitDataset(data_path, len(mydata), index_dir, True)"
   ]
  },
  {
   "cell_type": "code",
   "execution_count": 5,
   "metadata": {},
   "outputs": [],
   "source": [
    "from torch.utils.data import DataLoader, Subset\n",
    "\n",
    "batch_size = 128\n",
    "\n",
    "test_data = Subset(mydata, mysplitdata.test)\n",
    "# té sentit fer el shuffle en el test???\n",
    "test_dataloader = DataLoader(test_data, batch_size=batch_size, shuffle=False)"
   ]
  }
 ],
 "metadata": {
  "kernelspec": {
   "display_name": "Python 3",
   "language": "python",
   "name": "python3"
  },
  "language_info": {
   "codemirror_mode": {
    "name": "ipython",
    "version": 3
   },
   "file_extension": ".py",
   "mimetype": "text/x-python",
   "name": "python",
   "nbconvert_exporter": "python",
   "pygments_lexer": "ipython3",
   "version": "3.11.8"
  }
 },
 "nbformat": 4,
 "nbformat_minor": 2
}
