{
 "cells": [
  {
   "cell_type": "code",
   "execution_count": 1,
   "metadata": {},
   "outputs": [
    {
     "data": {
      "text/html": [
       "<div>\n",
       "<style scoped>\n",
       "    .dataframe tbody tr th:only-of-type {\n",
       "        vertical-align: middle;\n",
       "    }\n",
       "\n",
       "    .dataframe tbody tr th {\n",
       "        vertical-align: top;\n",
       "    }\n",
       "\n",
       "    .dataframe thead th {\n",
       "        text-align: right;\n",
       "    }\n",
       "</style>\n",
       "<table border=\"1\" class=\"dataframe\">\n",
       "  <thead>\n",
       "    <tr style=\"text-align: right;\">\n",
       "      <th></th>\n",
       "      <th>user</th>\n",
       "      <th>item</th>\n",
       "      <th>rating</th>\n",
       "      <th>template</th>\n",
       "      <th>predicted</th>\n",
       "    </tr>\n",
       "  </thead>\n",
       "  <tbody>\n",
       "    <tr>\n",
       "      <th>0</th>\n",
       "      <td>A2M2APVYIB2U6K</td>\n",
       "      <td>0000031887</td>\n",
       "      <td>5</td>\n",
       "      <td>(skirt, high, or high quality skirt, 1)</td>\n",
       "      <td>skirt</td>\n",
       "    </tr>\n",
       "  </tbody>\n",
       "</table>\n",
       "</div>"
      ],
      "text/plain": [
       "             user        item  rating  \\\n",
       "0  A2M2APVYIB2U6K  0000031887       5   \n",
       "\n",
       "                                  template predicted  \n",
       "0  (skirt, high, or high quality skirt, 1)     skirt  "
      ]
     },
     "execution_count": 1,
     "metadata": {},
     "output_type": "execute_result"
    }
   ],
   "source": [
    "import pandas as pd\n",
    "\n",
    "# Problem: they give you only an edited short sentence of the review, which doesn't give\n",
    "# the general opinion about the review, so it's a bit weird\n",
    "\n",
    "dataset = 'amz-clothing'\n",
    "source_path = f'raw_data/CIKM20-NETE-Datasets/{dataset}/reviews.pickle'\n",
    "\n",
    "df = pd.DataFrame(pd.read_pickle(source_path))\n",
    "\n",
    "df.head(1)"
   ]
  },
  {
   "cell_type": "code",
   "execution_count": 2,
   "metadata": {},
   "outputs": [
    {
     "data": {
      "text/html": [
       "<div>\n",
       "<style scoped>\n",
       "    .dataframe tbody tr th:only-of-type {\n",
       "        vertical-align: middle;\n",
       "    }\n",
       "\n",
       "    .dataframe tbody tr th {\n",
       "        vertical-align: top;\n",
       "    }\n",
       "\n",
       "    .dataframe thead th {\n",
       "        text-align: right;\n",
       "    }\n",
       "</style>\n",
       "<table border=\"1\" class=\"dataframe\">\n",
       "  <thead>\n",
       "    <tr style=\"text-align: right;\">\n",
       "      <th></th>\n",
       "      <th>user</th>\n",
       "      <th>item</th>\n",
       "      <th>rating</th>\n",
       "      <th>feature</th>\n",
       "      <th>opinion</th>\n",
       "      <th>sentence</th>\n",
       "      <th>sentiment</th>\n",
       "    </tr>\n",
       "  </thead>\n",
       "  <tbody>\n",
       "    <tr>\n",
       "      <th>0</th>\n",
       "      <td>A2M2APVYIB2U6K</td>\n",
       "      <td>0000031887</td>\n",
       "      <td>5</td>\n",
       "      <td>skirt</td>\n",
       "      <td>high</td>\n",
       "      <td>or high quality skirt</td>\n",
       "      <td>1</td>\n",
       "    </tr>\n",
       "  </tbody>\n",
       "</table>\n",
       "</div>"
      ],
      "text/plain": [
       "             user        item  rating feature opinion               sentence  \\\n",
       "0  A2M2APVYIB2U6K  0000031887       5   skirt    high  or high quality skirt   \n",
       "\n",
       "   sentiment  \n",
       "0          1  "
      ]
     },
     "execution_count": 2,
     "metadata": {},
     "output_type": "execute_result"
    }
   ],
   "source": [
    "# Split weird template column into 4 columns\n",
    "\n",
    "df[['feature', 'opinion', 'sentence', 'sentiment']] = pd.DataFrame(df['template'].tolist())\n",
    "df = df.drop(['template', 'predicted'], axis=1)\n",
    "\n",
    "df.head(1)"
   ]
  },
  {
   "cell_type": "code",
   "execution_count": 3,
   "metadata": {},
   "outputs": [
    {
     "data": {
      "text/html": [
       "<div>\n",
       "<style scoped>\n",
       "    .dataframe tbody tr th:only-of-type {\n",
       "        vertical-align: middle;\n",
       "    }\n",
       "\n",
       "    .dataframe tbody tr th {\n",
       "        vertical-align: top;\n",
       "    }\n",
       "\n",
       "    .dataframe thead th {\n",
       "        text-align: right;\n",
       "    }\n",
       "</style>\n",
       "<table border=\"1\" class=\"dataframe\">\n",
       "  <thead>\n",
       "    <tr style=\"text-align: right;\">\n",
       "      <th></th>\n",
       "      <th>user</th>\n",
       "      <th>item</th>\n",
       "      <th>rating</th>\n",
       "      <th>text</th>\n",
       "    </tr>\n",
       "  </thead>\n",
       "  <tbody>\n",
       "    <tr>\n",
       "      <th>0</th>\n",
       "      <td>A2M2APVYIB2U6K</td>\n",
       "      <td>0000031887</td>\n",
       "      <td>5</td>\n",
       "      <td>or high quality skirt</td>\n",
       "    </tr>\n",
       "  </tbody>\n",
       "</table>\n",
       "</div>"
      ],
      "text/plain": [
       "             user        item  rating                   text\n",
       "0  A2M2APVYIB2U6K  0000031887       5  or high quality skirt"
      ]
     },
     "execution_count": 3,
     "metadata": {},
     "output_type": "execute_result"
    }
   ],
   "source": [
    "# Only the sentence part is needed for my models. The sentries toolkit extracts more things,\n",
    "# but I want to be able to use my model for datasets where sentries tookits has not been\n",
    "# necessarily previously passed, as the creators already hint that it can take several days...\n",
    "\n",
    "target_path = f'data/{dataset}/reviews.csv'\n",
    "\n",
    "df = df[['user', 'item', 'rating', 'sentence']].rename(columns={'sentence': 'text'})\n",
    "df.to_csv(target_path, index=False)\n",
    "\n",
    "df.head(1)"
   ]
  },
  {
   "cell_type": "markdown",
   "metadata": {},
   "source": [
    "## Data origin check"
   ]
  },
  {
   "cell_type": "code",
   "execution_count": null,
   "metadata": {},
   "outputs": [
    {
     "data": {
      "text/html": [
       "<div>\n",
       "<style scoped>\n",
       "    .dataframe tbody tr th:only-of-type {\n",
       "        vertical-align: middle;\n",
       "    }\n",
       "\n",
       "    .dataframe tbody tr th {\n",
       "        vertical-align: top;\n",
       "    }\n",
       "\n",
       "    .dataframe thead th {\n",
       "        text-align: right;\n",
       "    }\n",
       "</style>\n",
       "<table border=\"1\" class=\"dataframe\">\n",
       "  <thead>\n",
       "    <tr style=\"text-align: right;\">\n",
       "      <th></th>\n",
       "      <th>reviewerID</th>\n",
       "      <th>asin</th>\n",
       "      <th>reviewerName</th>\n",
       "      <th>helpful</th>\n",
       "      <th>reviewText</th>\n",
       "      <th>overall</th>\n",
       "      <th>summary</th>\n",
       "      <th>unixReviewTime</th>\n",
       "      <th>reviewTime</th>\n",
       "    </tr>\n",
       "  </thead>\n",
       "  <tbody>\n",
       "    <tr>\n",
       "      <th>0</th>\n",
       "      <td>A1KLRMWW2FWPL4</td>\n",
       "      <td>0000031887</td>\n",
       "      <td>Amazon Customer \"cameramom\"</td>\n",
       "      <td>[0, 0]</td>\n",
       "      <td>This is a great tutu and at a really great pri...</td>\n",
       "      <td>5.0</td>\n",
       "      <td>Great tutu-  not cheaply made</td>\n",
       "      <td>1297468800</td>\n",
       "      <td>02 12, 2011</td>\n",
       "    </tr>\n",
       "  </tbody>\n",
       "</table>\n",
       "</div>"
      ],
      "text/plain": [
       "       reviewerID        asin                 reviewerName helpful  \\\n",
       "0  A1KLRMWW2FWPL4  0000031887  Amazon Customer \"cameramom\"  [0, 0]   \n",
       "\n",
       "                                          reviewText  overall  \\\n",
       "0  This is a great tutu and at a really great pri...      5.0   \n",
       "\n",
       "                         summary  unixReviewTime   reviewTime  \n",
       "0  Great tutu-  not cheaply made      1297468800  02 12, 2011  "
      ]
     },
     "metadata": {},
     "output_type": "display_data"
    }
   ],
   "source": [
    "import gzip\n",
    "import json\n",
    "import pandas as pd\n",
    "\n",
    "df1 = df\n",
    "\n",
    "# Only for origin data purposes, I will not be using more columns?\n",
    "\n",
    "def from_gzip(path):\n",
    "    with gzip.open(path, 'rb') as f:\n",
    "        data = [json.loads(line) for line in f]\n",
    "    return pd.DataFrame(data)\n",
    "\n",
    "df2 = from_gzip('raw_data/CIKM20-NETE-Datasets/amz-clothing/reviews_Clothing_Shoes_and_Jewelry_5.json.gz')\n",
    "\n",
    "df2.head(1)"
   ]
  },
  {
   "cell_type": "code",
   "execution_count": null,
   "metadata": {},
   "outputs": [
    {
     "name": "stdout",
     "output_type": "stream",
     "text": [
      "(179223, 14) (179223, 7) (278677, 9)\n"
     ]
    },
    {
     "data": {
      "text/html": [
       "<div>\n",
       "<style scoped>\n",
       "    .dataframe tbody tr th:only-of-type {\n",
       "        vertical-align: middle;\n",
       "    }\n",
       "\n",
       "    .dataframe tbody tr th {\n",
       "        vertical-align: top;\n",
       "    }\n",
       "\n",
       "    .dataframe thead th {\n",
       "        text-align: right;\n",
       "    }\n",
       "</style>\n",
       "<table border=\"1\" class=\"dataframe\">\n",
       "  <thead>\n",
       "    <tr style=\"text-align: right;\">\n",
       "      <th></th>\n",
       "      <th>user</th>\n",
       "      <th>item</th>\n",
       "      <th>rating</th>\n",
       "      <th>feature</th>\n",
       "      <th>opinion</th>\n",
       "      <th>sentence</th>\n",
       "      <th>sentiment</th>\n",
       "      <th>reviewerName</th>\n",
       "      <th>helpful</th>\n",
       "      <th>reviewText</th>\n",
       "      <th>overall</th>\n",
       "      <th>summary</th>\n",
       "      <th>unixReviewTime</th>\n",
       "      <th>reviewTime</th>\n",
       "    </tr>\n",
       "  </thead>\n",
       "  <tbody>\n",
       "    <tr>\n",
       "      <th>0</th>\n",
       "      <td>A2M2APVYIB2U6K</td>\n",
       "      <td>0000031887</td>\n",
       "      <td>5</td>\n",
       "      <td>skirt</td>\n",
       "      <td>high</td>\n",
       "      <td>or high quality skirt</td>\n",
       "      <td>1</td>\n",
       "      <td>Jamie P.</td>\n",
       "      <td>[0, 0]</td>\n",
       "      <td>Great tutu for a great price. It isn't a &amp;#34;...</td>\n",
       "      <td>5.0</td>\n",
       "      <td>Great value</td>\n",
       "      <td>1356220800</td>\n",
       "      <td>12 23, 2012</td>\n",
       "    </tr>\n",
       "  </tbody>\n",
       "</table>\n",
       "</div>"
      ],
      "text/plain": [
       "             user        item  rating feature opinion               sentence  \\\n",
       "0  A2M2APVYIB2U6K  0000031887       5   skirt    high  or high quality skirt   \n",
       "\n",
       "   sentiment reviewerName helpful  \\\n",
       "0          1     Jamie P.  [0, 0]   \n",
       "\n",
       "                                          reviewText  overall      summary  \\\n",
       "0  Great tutu for a great price. It isn't a &#34;...      5.0  Great value   \n",
       "\n",
       "   unixReviewTime   reviewTime  \n",
       "0      1356220800  12 23, 2012  "
      ]
     },
     "metadata": {},
     "output_type": "display_data"
    }
   ],
   "source": [
    "# Only keeps els que estan en els 2 datasets, ja està bé pq l'interessant era el del PETER (df1)\n",
    "df = pd.merge(df1, df2, left_on=['user', 'item'], right_on=['reviewerID', 'asin'])\n",
    "df = df.drop(columns=['reviewerID', 'asin'])\n",
    "print(df.shape, df1.shape, df2.shape)\n",
    "\n",
    "df.head(1)"
   ]
  },
  {
   "cell_type": "code",
   "execution_count": 4,
   "metadata": {},
   "outputs": [],
   "source": [
    "# la feature i la opinion són exactament una paraula\n",
    "assert(df.apply(lambda row: len(row['feature'].split()) == 1, axis=1).all())\n",
    "assert(df.apply(lambda row: len(row['opinion'].split()) == 1, axis=1).all())\n",
    "\n",
    "# i estan tal qual en la sentence\n",
    "assert(df.apply(lambda row: row['feature'] in row['sentence'], axis=1).all())\n",
    "assert(df.apply(lambda row: row['opinion'] in row['sentence'], axis=1).all())"
   ]
  },
  {
   "cell_type": "code",
   "execution_count": 5,
   "metadata": {},
   "outputs": [],
   "source": [
    "import re\n",
    "\n",
    "def is_substring(long_string, short_string):\n",
    "    long_string = re.sub(r'\\W+', '', long_string).lower()\n",
    "    short_string = re.sub(r'\\W+', '', short_string).lower()\n",
    "    return short_string in long_string\n",
    "\n",
    "a = df.apply(lambda row: is_substring(row['summary']+'\\n'+row['reviewText'], row['sentence']), axis=1)\n",
    "assert(a.value_counts().get(False, 0) == 10) # Hi ha molts poc valors on no sigui així i són casos molt extrems\n",
    "# on no val la penda invertir ni un segons més buscant"
   ]
  },
  {
   "cell_type": "code",
   "execution_count": 7,
   "metadata": {},
   "outputs": [
    {
     "data": {
      "text/html": [
       "<div>\n",
       "<style scoped>\n",
       "    .dataframe tbody tr th:only-of-type {\n",
       "        vertical-align: middle;\n",
       "    }\n",
       "\n",
       "    .dataframe tbody tr th {\n",
       "        vertical-align: top;\n",
       "    }\n",
       "\n",
       "    .dataframe thead th {\n",
       "        text-align: right;\n",
       "    }\n",
       "</style>\n",
       "<table border=\"1\" class=\"dataframe\">\n",
       "  <thead>\n",
       "    <tr style=\"text-align: right;\">\n",
       "      <th></th>\n",
       "      <th>user</th>\n",
       "      <th>item</th>\n",
       "      <th>rating</th>\n",
       "      <th>feature</th>\n",
       "      <th>opinion</th>\n",
       "      <th>sentence</th>\n",
       "      <th>sentiment</th>\n",
       "      <th>reviewerName</th>\n",
       "      <th>helpful</th>\n",
       "      <th>reviewText</th>\n",
       "      <th>overall</th>\n",
       "      <th>summary</th>\n",
       "      <th>unixReviewTime</th>\n",
       "      <th>reviewTime</th>\n",
       "    </tr>\n",
       "  </thead>\n",
       "  <tbody>\n",
       "    <tr>\n",
       "      <th>0</th>\n",
       "      <td>A2M2APVYIB2U6K</td>\n",
       "      <td>0000031887</td>\n",
       "      <td>5</td>\n",
       "      <td>skirt</td>\n",
       "      <td>high</td>\n",
       "      <td>or high quality skirt</td>\n",
       "      <td>1</td>\n",
       "      <td>Jamie P.</td>\n",
       "      <td>[0, 0]</td>\n",
       "      <td>Great tutu for a great price. It isn't a &amp;#34;...</td>\n",
       "      <td>5.0</td>\n",
       "      <td>Great value</td>\n",
       "      <td>1356220800</td>\n",
       "      <td>12 23, 2012</td>\n",
       "    </tr>\n",
       "  </tbody>\n",
       "</table>\n",
       "</div>"
      ],
      "text/plain": [
       "             user        item  rating feature opinion               sentence  \\\n",
       "0  A2M2APVYIB2U6K  0000031887       5   skirt    high  or high quality skirt   \n",
       "\n",
       "   sentiment reviewerName helpful  \\\n",
       "0          1     Jamie P.  [0, 0]   \n",
       "\n",
       "                                          reviewText  overall      summary  \\\n",
       "0  Great tutu for a great price. It isn't a &#34;...      5.0  Great value   \n",
       "\n",
       "   unixReviewTime   reviewTime  \n",
       "0      1356220800  12 23, 2012  "
      ]
     },
     "execution_count": 7,
     "metadata": {},
     "output_type": "execute_result"
    }
   ],
   "source": [
    "df.head(1)"
   ]
  },
  {
   "cell_type": "markdown",
   "metadata": {},
   "source": [
    "## Weird things"
   ]
  },
  {
   "cell_type": "code",
   "execution_count": 23,
   "metadata": {},
   "outputs": [
    {
     "data": {
      "text/html": [
       "<div>\n",
       "<style scoped>\n",
       "    .dataframe tbody tr th:only-of-type {\n",
       "        vertical-align: middle;\n",
       "    }\n",
       "\n",
       "    .dataframe tbody tr th {\n",
       "        vertical-align: top;\n",
       "    }\n",
       "\n",
       "    .dataframe thead th {\n",
       "        text-align: right;\n",
       "    }\n",
       "</style>\n",
       "<table border=\"1\" class=\"dataframe\">\n",
       "  <thead>\n",
       "    <tr style=\"text-align: right;\">\n",
       "      <th></th>\n",
       "      <th>user</th>\n",
       "      <th>item</th>\n",
       "      <th>rating</th>\n",
       "      <th>feature</th>\n",
       "      <th>opinion</th>\n",
       "      <th>sentence</th>\n",
       "      <th>sentiment</th>\n",
       "      <th>reviewerName</th>\n",
       "      <th>helpful</th>\n",
       "      <th>reviewText</th>\n",
       "      <th>overall</th>\n",
       "      <th>summary</th>\n",
       "      <th>unixReviewTime</th>\n",
       "      <th>reviewTime</th>\n",
       "    </tr>\n",
       "  </thead>\n",
       "  <tbody>\n",
       "    <tr>\n",
       "      <th>27</th>\n",
       "      <td>A3MHGA6BJJ7P27</td>\n",
       "      <td>1617160377</td>\n",
       "      <td>5</td>\n",
       "      <td>finish</td>\n",
       "      <td>less</td>\n",
       "      <td>that are clued into your number of finished le...</td>\n",
       "      <td>-1</td>\n",
       "      <td>W. T. Hoffman \"artist and musician\"</td>\n",
       "      <td>[9, 10]</td>\n",
       "      <td>ROSETTA STONE is famous for teaching language ...</td>\n",
       "      <td>5.0</td>\n",
       "      <td>The EXASPERATION of SPEACH RECOGNITION</td>\n",
       "      <td>1309305600</td>\n",
       "      <td>06 29, 2011</td>\n",
       "    </tr>\n",
       "  </tbody>\n",
       "</table>\n",
       "</div>"
      ],
      "text/plain": [
       "              user        item  rating feature opinion  \\\n",
       "27  A3MHGA6BJJ7P27  1617160377       5  finish    less   \n",
       "\n",
       "                                             sentence  sentiment  \\\n",
       "27  that are clued into your number of finished le...         -1   \n",
       "\n",
       "                           reviewerName  helpful  \\\n",
       "27  W. T. Hoffman \"artist and musician\"  [9, 10]   \n",
       "\n",
       "                                           reviewText  overall  \\\n",
       "27  ROSETTA STONE is famous for teaching language ...      5.0   \n",
       "\n",
       "                                   summary  unixReviewTime   reviewTime  \n",
       "27  The EXASPERATION of SPEACH RECOGNITION      1309305600  06 29, 2011  "
      ]
     },
     "execution_count": 23,
     "metadata": {},
     "output_type": "execute_result"
    }
   ],
   "source": [
    "df[(df['rating']==5) & (df['sentiment']==-1)].head(1) # frases negatives en reviews de rating 5"
   ]
  },
  {
   "cell_type": "code",
   "execution_count": 24,
   "metadata": {},
   "outputs": [
    {
     "data": {
      "text/html": [
       "<div>\n",
       "<style scoped>\n",
       "    .dataframe tbody tr th:only-of-type {\n",
       "        vertical-align: middle;\n",
       "    }\n",
       "\n",
       "    .dataframe tbody tr th {\n",
       "        vertical-align: top;\n",
       "    }\n",
       "\n",
       "    .dataframe thead th {\n",
       "        text-align: right;\n",
       "    }\n",
       "</style>\n",
       "<table border=\"1\" class=\"dataframe\">\n",
       "  <thead>\n",
       "    <tr style=\"text-align: right;\">\n",
       "      <th></th>\n",
       "      <th>user</th>\n",
       "      <th>item</th>\n",
       "      <th>rating</th>\n",
       "      <th>feature</th>\n",
       "      <th>opinion</th>\n",
       "      <th>sentence</th>\n",
       "      <th>sentiment</th>\n",
       "      <th>reviewerName</th>\n",
       "      <th>helpful</th>\n",
       "      <th>reviewText</th>\n",
       "      <th>overall</th>\n",
       "      <th>summary</th>\n",
       "      <th>unixReviewTime</th>\n",
       "      <th>reviewTime</th>\n",
       "    </tr>\n",
       "  </thead>\n",
       "  <tbody>\n",
       "    <tr>\n",
       "      <th>18</th>\n",
       "      <td>A28QH3KX709FFQ</td>\n",
       "      <td>1608299953</td>\n",
       "      <td>1</td>\n",
       "      <td>product</td>\n",
       "      <td>little</td>\n",
       "      <td>i bought this product a little over a year ago</td>\n",
       "      <td>1</td>\n",
       "      <td>Don Quixote \"Don Q\"</td>\n",
       "      <td>[24, 31]</td>\n",
       "      <td>I bought this product a little over a year ago...</td>\n",
       "      <td>1.0</td>\n",
       "      <td>DO NOT BUY IF YOU EVER WANT TO RESELL IT.</td>\n",
       "      <td>1348185600</td>\n",
       "      <td>09 21, 2012</td>\n",
       "    </tr>\n",
       "  </tbody>\n",
       "</table>\n",
       "</div>"
      ],
      "text/plain": [
       "              user        item  rating  feature opinion  \\\n",
       "18  A28QH3KX709FFQ  1608299953       1  product  little   \n",
       "\n",
       "                                          sentence  sentiment  \\\n",
       "18  i bought this product a little over a year ago          1   \n",
       "\n",
       "           reviewerName   helpful  \\\n",
       "18  Don Quixote \"Don Q\"  [24, 31]   \n",
       "\n",
       "                                           reviewText  overall  \\\n",
       "18  I bought this product a little over a year ago...      1.0   \n",
       "\n",
       "                                      summary  unixReviewTime   reviewTime  \n",
       "18  DO NOT BUY IF YOU EVER WANT TO RESELL IT.      1348185600  09 21, 2012  "
      ]
     },
     "execution_count": 24,
     "metadata": {},
     "output_type": "execute_result"
    }
   ],
   "source": [
    "df[(df['rating']==1) & (df['sentiment']==1)].head(1) # frases positives en reviews de rating 1"
   ]
  },
  {
   "cell_type": "code",
   "execution_count": 4,
   "metadata": {},
   "outputs": [
    {
     "data": {
      "text/plain": [
       "size          10843\n",
       "fit            9409\n",
       "look           8980\n",
       "quality        6070\n",
       "price          5326\n",
       "              ...  \n",
       "spillage          1\n",
       "messenger         1\n",
       "eyeglasses        1\n",
       "fasciitis         1\n",
       "downside          1\n",
       "Name: feature, Length: 1162, dtype: int64"
      ]
     },
     "execution_count": 4,
     "metadata": {},
     "output_type": "execute_result"
    }
   ],
   "source": [
    "df['feature'].value_counts()"
   ]
  },
  {
   "cell_type": "code",
   "execution_count": 12,
   "metadata": {},
   "outputs": [
    {
     "data": {
      "text/plain": [
       "great          19266\n",
       "good           14071\n",
       "nice           10562\n",
       "perfect         8588\n",
       "comfortable     7349\n",
       "               ...  \n",
       "unable             1\n",
       "jagged             1\n",
       "bearable           1\n",
       "clad               1\n",
       "recommended        1\n",
       "Name: opinion, Length: 1161, dtype: int64"
      ]
     },
     "execution_count": 12,
     "metadata": {},
     "output_type": "execute_result"
    }
   ],
   "source": [
    "df['opinion'].value_counts()"
   ]
  },
  {
   "cell_type": "code",
   "execution_count": 15,
   "metadata": {},
   "outputs": [
    {
     "data": {
      "text/plain": [
       "<Axes: ylabel='sentiment'>"
      ]
     },
     "execution_count": 15,
     "metadata": {},
     "output_type": "execute_result"
    },
    {
     "data": {
      "image/png": "[encoded data removed]",
      "text/plain": [
       "<Figure size 640x480 with 1 Axes>"
      ]
     },
     "metadata": {},
     "output_type": "display_data"
    }
   ],
   "source": [
    "df['sentiment'].value_counts().plot(kind='pie')"
   ]
  },
  {
   "cell_type": "code",
   "execution_count": null,
   "metadata": {},
   "outputs": [],
   "source": []
  }
 ],
 "metadata": {
  "kernelspec": {
   "display_name": "Python 3",
   "language": "python",
   "name": "python3"
  },
  "language_info": {
   "codemirror_mode": {
    "name": "ipython",
    "version": 3
   },
   "file_extension": ".py",
   "mimetype": "text/x-python",
   "name": "python",
   "nbconvert_exporter": "python",
   "pygments_lexer": "ipython3",
   "version": "3.11.8"
  }
 },
 "nbformat": 4,
 "nbformat_minor": 2
}
