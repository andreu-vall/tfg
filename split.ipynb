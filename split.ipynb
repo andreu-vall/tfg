{
 "cells": [
  {
   "cell_type": "markdown",
   "metadata": {},
   "source": [
    "### 1. Carrega les dades"
   ]
  },
  {
   "cell_type": "code",
   "execution_count": 1,
   "metadata": {},
   "outputs": [
    {
     "name": "stdout",
     "output_type": "stream",
     "text": [
      "exists, loading it\n"
     ]
    }
   ],
   "source": [
    "from utils.andreu import MyDataset\n",
    "\n",
    "# The first time that a Dataset with a text_max_words and vocab_size is executed,\n",
    "# it needs to transform the text data into a sequence of integers. As it takes\n",
    "# around 20 seconds and is quite painful to wait for it every time that I am repeating\n",
    "# a training for test purposes, I've saved only the necessary and pickled it\n",
    "\n",
    "data_path = f'data/amz-beauty-review'\n",
    "text_max_words = 15\n",
    "vocab_size = 20_000\n",
    "\n",
    "data = MyDataset.load_or_create_and_save(data_path, text_max_words, vocab_size)"
   ]
  },
  {
   "cell_type": "markdown",
   "metadata": {},
   "source": [
    "### (2. Crea un nou split)"
   ]
  },
  {
   "cell_type": "code",
   "execution_count": 2,
   "metadata": {},
   "outputs": [],
   "source": [
    "from utils.andreu import MySplitDataset\n",
    "\n",
    "new_index_dir = 1\n",
    "seed = 42\n",
    "\n",
    "# Només es necessita el path i la length de la data. Igual que el PETER però ordenant els índexs.\n",
    "new_split = MySplitDataset(data_path, len(data), new_index_dir, load_split=False, seed=seed)"
   ]
  },
  {
   "cell_type": "markdown",
   "metadata": {},
   "source": [
    "### 3. Carrega un split i itera train"
   ]
  },
  {
   "cell_type": "code",
   "execution_count": 2,
   "metadata": {},
   "outputs": [
    {
     "name": "stdout",
     "output_type": "stream",
     "text": [
      "exists, loading it\n",
      "torch.Size([128]) torch.Size([128]) torch.Size([128]) torch.Size([128, 17])\n"
     ]
    }
   ],
   "source": [
    "from torch.utils.data import DataLoader, Subset\n",
    "from utils.andreu import MySplitDataset\n",
    "import torch\n",
    "\n",
    "data_path = f'data/amz-beauty'\n",
    "text_max_words = 15\n",
    "vocab_size = 20_000\n",
    "\n",
    "data = MyDataset.load_or_create_and_save(data_path, text_max_words, vocab_size)\n",
    "\n",
    "index_dir = 1\n",
    "existing_split = MySplitDataset(data_path, len(data), index_dir, load_split=True)\n",
    "train_data = Subset(data, existing_split.train)\n",
    "\n",
    "batch_size = 128\n",
    "seed = 42\n",
    "torch.manual_seed(seed)\n",
    "train_dataloader = DataLoader(train_data, batch_size=batch_size, shuffle=True)\n",
    "\n",
    "batch = next(iter(train_dataloader))\n",
    "assert len(batch) == 4\n",
    "user, item, rating, text = batch\n",
    "\n",
    "print(user.shape, item.shape, rating.shape, text.shape)"
   ]
  },
  {
   "cell_type": "code",
   "execution_count": null,
   "metadata": {},
   "outputs": [],
   "source": []
  }
 ],
 "metadata": {
  "kernelspec": {
   "display_name": "Python 3",
   "language": "python",
   "name": "python3"
  },
  "language_info": {
   "codemirror_mode": {
    "name": "ipython",
    "version": 3
   },
   "file_extension": ".py",
   "mimetype": "text/x-python",
   "name": "python",
   "nbconvert_exporter": "python",
   "pygments_lexer": "ipython3",
   "version": "3.11.8"
  }
 },
 "nbformat": 4,
 "nbformat_minor": 2
}
