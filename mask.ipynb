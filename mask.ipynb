{
 "cells": [
  {
   "cell_type": "code",
   "execution_count": 8,
   "metadata": {},
   "outputs": [],
   "source": [
    "import torch\n",
    "\n",
    "# Segons copilot, en el cas de fer Attention mechanism per generar reviews:\n",
    "# Query -> current token tal que el model està intenant generar el SEGÜENT token\n",
    "# Key -> tots els tokens de la seqüència generada fins ara\n",
    "# Value -> all the tokens in the sequence generated so far, which are used, weighted by the attention scores, to generate the next token\n",
    "\n",
    "# rows -> query positions (Q)\n",
    "# cols -> key positions (K)\n",
    "\n",
    "# Per tant la Query en cada \"step\" és el últim token\n",
    "# La Key són tots els tokens anteriors a aquests\n",
    "# Per calcular l'attention, que és com el pes que ha de tenir cada token anterior per generar el següent,\n",
    "# es fa el producte escalar entre la Query i la Key, i es normalitza amb softmax\n",
    "# Això dóna els pesos que ha de tenir cada token anterior per generar el següent\n",
    "# Finalment, es multiplica aquests pesos pels tokens anteriors (Value) per obtenir el següent token\n",
    "# Això es fa per cada token de la seqüència\n",
    "\n",
    "# Attention = softmax(QK^T / sqrt(d_k))V\n",
    "# Q -> query\n",
    "# K -> key\n",
    "# V -> value\n",
    "# d_k -> dimension of the key\n",
    "# softmax -> normalizes the attention scores\n",
    "# sqrt(d_k) -> scaling factor\n",
    "# QK^T -> dot product of query and key\n",
    "# QK^T / sqrt(d_k) -> scaled dot product\n",
    "# softmax(QK^T / sqrt(d_k)) -> attention scores\n",
    "# softmax(QK^T / sqrt(d_k))V -> attention values\n",
    "\n",
    "\n",
    "def generate_square_subsequent_mask(total_len):\n",
    "    # torch.ones -> probably tots 1's, de mica total_len x total_len\n",
    "    # torch.tril -> triangle lower, meaning it put to 0 all the elements above the diaonal (es queda amb el traingle inferior)\n",
    "    # mask == 0 -> ho inverteix tot, pq les màscares vol dir el que NO tens permès de veure\n",
    "    mask = torch.tril(torch.ones(total_len, total_len))  # (total_len, total_len), lower triangle -> 1.; others 0.\n",
    "    mask = mask == 0  # lower -> False; others True\n",
    "    return mask"
   ]
  },
  {
   "cell_type": "code",
   "execution_count": 9,
   "metadata": {},
   "outputs": [
    {
     "data": {
      "text/plain": [
       "tensor([[False,  True,  True,  True],\n",
       "        [False, False,  True,  True],\n",
       "        [False, False, False,  True],\n",
       "        [False, False, False, False]])"
      ]
     },
     "execution_count": 9,
     "metadata": {},
     "output_type": "execute_result"
    }
   ],
   "source": [
    "generate_square_subsequent_mask(4) # per tant aquí els True signifiquen que no puguis veure els pròxims tokens a tu\n",
    "# no entenc del tot com pot ser que un es pugui ell mateix, no es generaria així simplement sempre ell mateix?\n",
    "# NO pq el que estàs intentant predir és el SEGÜENT token, no el mateix token."
   ]
  },
  {
   "cell_type": "code",
   "execution_count": 3,
   "metadata": {},
   "outputs": [],
   "source": [
    "# Té un extra False, que segons el que diu allows to attend for user and item (en el hidden[0] suposo?)\n",
    "\n",
    "def generate_peter_mask(src_len, tgt_len):\n",
    "    total_len = src_len + tgt_len\n",
    "    mask = generate_square_subsequent_mask(total_len)\n",
    "    mask[0, 1] = False  # allow to attend for user and item (False = attend????)\n",
    "    print('peter_mask')\n",
    "    return mask"
   ]
  },
  {
   "cell_type": "code",
   "execution_count": 4,
   "metadata": {},
   "outputs": [
    {
     "name": "stdout",
     "output_type": "stream",
     "text": [
      "peter_mask\n"
     ]
    },
    {
     "data": {
      "text/plain": [
       "tensor([[False, False,  True,  True],\n",
       "        [False, False,  True,  True],\n",
       "        [False, False, False,  True],\n",
       "        [False, False, False, False]])"
      ]
     },
     "execution_count": 4,
     "metadata": {},
     "output_type": "execute_result"
    }
   ],
   "source": [
    "generate_peter_mask(3, 1) # ~"
   ]
  },
  {
   "cell_type": "code",
   "execution_count": 5,
   "metadata": {},
   "outputs": [
    {
     "name": "stdout",
     "output_type": "stream",
     "text": [
      "peter_mask\n"
     ]
    },
    {
     "data": {
      "image/png": "[encoded data removed]",
      "text/plain": [
       "<Figure size 640x480 with 1 Axes>"
      ]
     },
     "metadata": {},
     "output_type": "display_data"
    }
   ],
   "source": [
    "from utils.module import plot_mask\n",
    "\n",
    "# crec que negre = attend, blanc = no attend\n",
    "plot_mask(generate_peter_mask(3, 1)) # a bit inútil el plot ngl?"
   ]
  },
  {
   "cell_type": "code",
   "execution_count": 6,
   "metadata": {},
   "outputs": [
    {
     "data": {
      "image/png": "[encoded data removed]",
      "text/plain": [
       "<Figure size 640x480 with 1 Axes>"
      ]
     },
     "metadata": {},
     "output_type": "display_data"
    }
   ],
   "source": [
    "plot_mask(generate_square_subsequent_mask(4))"
   ]
  }
 ],
 "metadata": {
  "kernelspec": {
   "display_name": "Python 3",
   "language": "python",
   "name": "python3"
  },
  "language_info": {
   "codemirror_mode": {
    "name": "ipython",
    "version": 3
   },
   "file_extension": ".py",
   "mimetype": "text/x-python",
   "name": "python",
   "nbconvert_exporter": "python",
   "pygments_lexer": "ipython3",
   "version": "3.11.8"
  }
 },
 "nbformat": 4,
 "nbformat_minor": 2
}
