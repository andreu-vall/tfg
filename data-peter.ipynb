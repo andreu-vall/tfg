{
 "cells": [
  {
   "cell_type": "code",
   "execution_count": 30,
   "metadata": {},
   "outputs": [],
   "source": [
    "from utils.data import MyDataset, MySplitDataset\n",
    "\n",
    "data_path = 'data/amazon-clothing'\n",
    "words = 15\n",
    "vocab_size = 20_000\n",
    "\n",
    "data = MyDataset(data_path, words, vocab_size) # tarda entre 5 i 10 segons normalment. A vegades només 3 seg en re-execucions"
   ]
  },
  {
   "cell_type": "code",
   "execution_count": 31,
   "metadata": {},
   "outputs": [],
   "source": [
    "import torch\n",
    "from torch.utils.data import DataLoader, Subset\n",
    "\n",
    "index_dir = '1'\n",
    "batch_size = 128\n",
    "\n",
    "mysplitdata = MySplitDataset(data_path, len(data), index_dir, True)\n",
    "\n",
    "def collate_fn(batch):\n",
    "    return [torch.tensor(x) for x in zip(*batch)]\n",
    "\n",
    "train_data = Subset(data, mysplitdata.train)\n",
    "train_loader = DataLoader(train_data, batch_size=batch_size, shuffle=True, collate_fn=collate_fn)"
   ]
  },
  {
   "cell_type": "code",
   "execution_count": 32,
   "metadata": {},
   "outputs": [
    {
     "data": {
      "text/plain": [
       "(143378, 143378)"
      ]
     },
     "execution_count": 32,
     "metadata": {},
     "output_type": "execute_result"
    }
   ],
   "source": [
    "len(train_data), len(train_loader.dataset)"
   ]
  },
  {
   "cell_type": "code",
   "execution_count": 38,
   "metadata": {},
   "outputs": [],
   "source": [
    "for batch in train_loader:\n",
    "    break"
   ]
  },
  {
   "cell_type": "code",
   "execution_count": 40,
   "metadata": {},
   "outputs": [
    {
     "data": {
      "text/plain": [
       "[torch.Size([128]),\n",
       " torch.Size([128]),\n",
       " torch.Size([128]),\n",
       " torch.Size([128, 17]),\n",
       " torch.Size([128])]"
      ]
     },
     "execution_count": 40,
     "metadata": {},
     "output_type": "execute_result"
    }
   ],
   "source": [
    "[b.shape for b in batch] # el bo et dona les coses sempre així, tot perfecte amb la 1a dimensió el batch_size"
   ]
  },
  {
   "cell_type": "code",
   "execution_count": 33,
   "metadata": {},
   "outputs": [
    {
     "name": "stdout",
     "output_type": "stream",
     "text": [
      "5\n",
      "[<class 'torch.Tensor'>, <class 'torch.Tensor'>, <class 'torch.Tensor'>, <class 'list'>, <class 'torch.Tensor'>]\n"
     ]
    }
   ],
   "source": [
    " # Si no li dic la collate_fn, l'índex 3 és problemàtic (llista)\n",
    "train_loader_without_collate = DataLoader(train_data, batch_size=32, shuffle=True)\n",
    "for batch in train_loader_without_collate:\n",
    "    print(len(batch))\n",
    "    print([type(b) for b in batch])\n",
    "    break"
   ]
  },
  {
   "cell_type": "code",
   "execution_count": 34,
   "metadata": {},
   "outputs": [],
   "source": [
    "first_batch = next(iter(train_loader))"
   ]
  },
  {
   "cell_type": "code",
   "execution_count": 35,
   "metadata": {},
   "outputs": [
    {
     "data": {
      "text/plain": [
       "[(torch.Size([128]), torch.int64),\n",
       " (torch.Size([128]), torch.int64),\n",
       " (torch.Size([128]), torch.float32),\n",
       " (torch.Size([128, 17]), torch.int64),\n",
       " (torch.Size([128]), torch.int64)]"
      ]
     },
     "execution_count": 35,
     "metadata": {},
     "output_type": "execute_result"
    }
   ],
   "source": [
    "[(elem.shape, elem.dtype) for elem in first_batch]"
   ]
  },
  {
   "cell_type": "code",
   "execution_count": 36,
   "metadata": {},
   "outputs": [],
   "source": [
    "user, item, rating, text, feature = first_batch"
   ]
  },
  {
   "cell_type": "code",
   "execution_count": 37,
   "metadata": {},
   "outputs": [
    {
     "data": {
      "text/html": [
       "<div>\n",
       "<style scoped>\n",
       "    .dataframe tbody tr th:only-of-type {\n",
       "        vertical-align: middle;\n",
       "    }\n",
       "\n",
       "    .dataframe tbody tr th {\n",
       "        vertical-align: top;\n",
       "    }\n",
       "\n",
       "    .dataframe thead th {\n",
       "        text-align: right;\n",
       "    }\n",
       "</style>\n",
       "<table border=\"1\" class=\"dataframe\">\n",
       "  <thead>\n",
       "    <tr style=\"text-align: right;\">\n",
       "      <th></th>\n",
       "      <th>user</th>\n",
       "      <th>item</th>\n",
       "      <th>rating</th>\n",
       "      <th>text</th>\n",
       "      <th>feature</th>\n",
       "    </tr>\n",
       "  </thead>\n",
       "  <tbody>\n",
       "    <tr>\n",
       "      <th>0</th>\n",
       "      <td>A32E970U89EAUX</td>\n",
       "      <td>B009S3HT1I</td>\n",
       "      <td>4.0</td>\n",
       "      <td>so the dress is really pretty so i ca n't faul...</td>\n",
       "      <td>dress</td>\n",
       "    </tr>\n",
       "    <tr>\n",
       "      <th>1</th>\n",
       "      <td>A3FCK65KL97H9Z</td>\n",
       "      <td>B007WAEB10</td>\n",
       "      <td>5.0</td>\n",
       "      <td>the length is a good length and perfect with l...</td>\n",
       "      <td>length</td>\n",
       "    </tr>\n",
       "    <tr>\n",
       "      <th>2</th>\n",
       "      <td>A2MYCLMG0D3YR7</td>\n",
       "      <td>B004HHP00C</td>\n",
       "      <td>5.0</td>\n",
       "      <td>but the replacements fit perfectly</td>\n",
       "      <td>fit</td>\n",
       "    </tr>\n",
       "    <tr>\n",
       "      <th>3</th>\n",
       "      <td>A2OF4UHZ612JB3</td>\n",
       "      <td>B0085971YQ</td>\n",
       "      <td>4.0</td>\n",
       "      <td>it 's a very cute dress</td>\n",
       "      <td>dress</td>\n",
       "    </tr>\n",
       "    <tr>\n",
       "      <th>4</th>\n",
       "      <td>A1LT1URVMNXE6F</td>\n",
       "      <td>B00AUC4C3E</td>\n",
       "      <td>5.0</td>\n",
       "      <td>these shoes are soooo comfortable</td>\n",
       "      <td>sooo</td>\n",
       "    </tr>\n",
       "    <tr>\n",
       "      <th>...</th>\n",
       "      <td>...</td>\n",
       "      <td>...</td>\n",
       "      <td>...</td>\n",
       "      <td>...</td>\n",
       "      <td>...</td>\n",
       "    </tr>\n",
       "    <tr>\n",
       "      <th>123</th>\n",
       "      <td>A2N64UT67J8HFM</td>\n",
       "      <td>B003LXTWIO</td>\n",
       "      <td>5.0</td>\n",
       "      <td>and they are made with very strong fabric</td>\n",
       "      <td>fabric</td>\n",
       "    </tr>\n",
       "    <tr>\n",
       "      <th>124</th>\n",
       "      <td>A05613441GM5VUIRSCIK1</td>\n",
       "      <td>B001ARZP02</td>\n",
       "      <td>5.0</td>\n",
       "      <td>but loo and behold the boots fit him perfectly</td>\n",
       "      <td>boots</td>\n",
       "    </tr>\n",
       "    <tr>\n",
       "      <th>125</th>\n",
       "      <td>A10BXGWEGMAHSK</td>\n",
       "      <td>B00JB2IZ7I</td>\n",
       "      <td>4.0</td>\n",
       "      <td>shows everything so i 'd have to be in much be...</td>\n",
       "      <td>shape</td>\n",
       "    </tr>\n",
       "    <tr>\n",
       "      <th>126</th>\n",
       "      <td>ARWCQUR3TQZ3N</td>\n",
       "      <td>B004R1EMVQ</td>\n",
       "      <td>5.0</td>\n",
       "      <td>a deep v neck that highlights ur jewelery and ...</td>\n",
       "      <td>neck</td>\n",
       "    </tr>\n",
       "    <tr>\n",
       "      <th>127</th>\n",
       "      <td>A2KOL0YA4W9275</td>\n",
       "      <td>B00FBINPTY</td>\n",
       "      <td>5.0</td>\n",
       "      <td>these are plenty long and have that perfect re...</td>\n",
       "      <td>waist</td>\n",
       "    </tr>\n",
       "  </tbody>\n",
       "</table>\n",
       "<p>128 rows × 5 columns</p>\n",
       "</div>"
      ],
      "text/plain": [
       "                      user        item  rating  \\\n",
       "0           A32E970U89EAUX  B009S3HT1I     4.0   \n",
       "1           A3FCK65KL97H9Z  B007WAEB10     5.0   \n",
       "2           A2MYCLMG0D3YR7  B004HHP00C     5.0   \n",
       "3           A2OF4UHZ612JB3  B0085971YQ     4.0   \n",
       "4           A1LT1URVMNXE6F  B00AUC4C3E     5.0   \n",
       "..                     ...         ...     ...   \n",
       "123         A2N64UT67J8HFM  B003LXTWIO     5.0   \n",
       "124  A05613441GM5VUIRSCIK1  B001ARZP02     5.0   \n",
       "125         A10BXGWEGMAHSK  B00JB2IZ7I     4.0   \n",
       "126          ARWCQUR3TQZ3N  B004R1EMVQ     5.0   \n",
       "127         A2KOL0YA4W9275  B00FBINPTY     5.0   \n",
       "\n",
       "                                                  text feature  \n",
       "0    so the dress is really pretty so i ca n't faul...   dress  \n",
       "1    the length is a good length and perfect with l...  length  \n",
       "2                   but the replacements fit perfectly     fit  \n",
       "3                              it 's a very cute dress   dress  \n",
       "4                    these shoes are soooo comfortable    sooo  \n",
       "..                                                 ...     ...  \n",
       "123          and they are made with very strong fabric  fabric  \n",
       "124     but loo and behold the boots fit him perfectly   boots  \n",
       "125  shows everything so i 'd have to be in much be...   shape  \n",
       "126  a deep v neck that highlights ur jewelery and ...    neck  \n",
       "127  these are plenty long and have that perfect re...   waist  \n",
       "\n",
       "[128 rows x 5 columns]"
      ]
     },
     "execution_count": 37,
     "metadata": {},
     "output_type": "execute_result"
    }
   ],
   "source": [
    "import pandas as pd\n",
    "\n",
    "df = pd.DataFrame(data.untransform_batch(first_batch))\n",
    "\n",
    "df"
   ]
  },
  {
   "cell_type": "code",
   "execution_count": 26,
   "metadata": {},
   "outputs": [],
   "source": [
    "data_no_feat = MyDataset(data_path, words, vocab_size, feature_col=None)\n",
    "\n",
    "mysplitdata_no_feat = MySplitDataset(data_path, len(data_no_feat), index_dir, True)\n",
    "\n",
    "train_data_no_feat = Subset(data_no_feat, mysplitdata_no_feat.train)\n",
    "train_loader_no_feat = DataLoader(train_data_no_feat, batch_size=batch_size, shuffle=True, collate_fn=collate_fn)"
   ]
  },
  {
   "cell_type": "code",
   "execution_count": 27,
   "metadata": {},
   "outputs": [],
   "source": [
    "first_batch_no_feat = next(iter(train_loader_no_feat))"
   ]
  },
  {
   "cell_type": "code",
   "execution_count": 28,
   "metadata": {},
   "outputs": [
    {
     "data": {
      "text/html": [
       "<div>\n",
       "<style scoped>\n",
       "    .dataframe tbody tr th:only-of-type {\n",
       "        vertical-align: middle;\n",
       "    }\n",
       "\n",
       "    .dataframe tbody tr th {\n",
       "        vertical-align: top;\n",
       "    }\n",
       "\n",
       "    .dataframe thead th {\n",
       "        text-align: right;\n",
       "    }\n",
       "</style>\n",
       "<table border=\"1\" class=\"dataframe\">\n",
       "  <thead>\n",
       "    <tr style=\"text-align: right;\">\n",
       "      <th></th>\n",
       "      <th>user</th>\n",
       "      <th>item</th>\n",
       "      <th>rating</th>\n",
       "      <th>text</th>\n",
       "    </tr>\n",
       "  </thead>\n",
       "  <tbody>\n",
       "    <tr>\n",
       "      <th>0</th>\n",
       "      <td>A2K9EISKYABFQR</td>\n",
       "      <td>B009YRM6MK</td>\n",
       "      <td>5.0</td>\n",
       "      <td>i went up one size to be super comfortable</td>\n",
       "    </tr>\n",
       "    <tr>\n",
       "      <th>1</th>\n",
       "      <td>A2IAHYQEOVCNYE</td>\n",
       "      <td>B004IYZKWW</td>\n",
       "      <td>5.0</td>\n",
       "      <td>these shoes are extremely comfortable and help...</td>\n",
       "    </tr>\n",
       "    <tr>\n",
       "      <th>2</th>\n",
       "      <td>A3QMBPOM0FSBCC</td>\n",
       "      <td>B0085IFDEW</td>\n",
       "      <td>4.0</td>\n",
       "      <td>still a good shirt for a chilly day</td>\n",
       "    </tr>\n",
       "    <tr>\n",
       "      <th>3</th>\n",
       "      <td>A2XPT8ZZH17XGW</td>\n",
       "      <td>B002R0FAO2</td>\n",
       "      <td>4.0</td>\n",
       "      <td>very cute but runs small</td>\n",
       "    </tr>\n",
       "    <tr>\n",
       "      <th>4</th>\n",
       "      <td>A1HG82U7GY9531</td>\n",
       "      <td>B003UYTEO6</td>\n",
       "      <td>3.0</td>\n",
       "      <td>these jeans fit true to size</td>\n",
       "    </tr>\n",
       "    <tr>\n",
       "      <th>...</th>\n",
       "      <td>...</td>\n",
       "      <td>...</td>\n",
       "      <td>...</td>\n",
       "      <td>...</td>\n",
       "    </tr>\n",
       "    <tr>\n",
       "      <th>123</th>\n",
       "      <td>AQR1LRU8TLJ5H</td>\n",
       "      <td>B0064X6JGQ</td>\n",
       "      <td>5.0</td>\n",
       "      <td>dress fits perfectly &amp; is very flattering for ...</td>\n",
       "    </tr>\n",
       "    <tr>\n",
       "      <th>124</th>\n",
       "      <td>AFEC3BV85IXS4</td>\n",
       "      <td>B008J4EZE6</td>\n",
       "      <td>5.0</td>\n",
       "      <td>they fit close to my feet which are wide</td>\n",
       "    </tr>\n",
       "    <tr>\n",
       "      <th>125</th>\n",
       "      <td>A3V26E528CWT3V</td>\n",
       "      <td>B0057017RS</td>\n",
       "      <td>3.0</td>\n",
       "      <td>easy wear</td>\n",
       "    </tr>\n",
       "    <tr>\n",
       "      <th>126</th>\n",
       "      <td>A1N5FL7SNKG1JV</td>\n",
       "      <td>B006QO3T7U</td>\n",
       "      <td>3.0</td>\n",
       "      <td>i was able to return it right away and get ano...</td>\n",
       "    </tr>\n",
       "    <tr>\n",
       "      <th>127</th>\n",
       "      <td>A1K1RJZ1KSNK4U</td>\n",
       "      <td>B00DU6ZJ3Y</td>\n",
       "      <td>5.0</td>\n",
       "      <td>these shoes are so great</td>\n",
       "    </tr>\n",
       "  </tbody>\n",
       "</table>\n",
       "<p>128 rows × 4 columns</p>\n",
       "</div>"
      ],
      "text/plain": [
       "               user        item  rating  \\\n",
       "0    A2K9EISKYABFQR  B009YRM6MK     5.0   \n",
       "1    A2IAHYQEOVCNYE  B004IYZKWW     5.0   \n",
       "2    A3QMBPOM0FSBCC  B0085IFDEW     4.0   \n",
       "3    A2XPT8ZZH17XGW  B002R0FAO2     4.0   \n",
       "4    A1HG82U7GY9531  B003UYTEO6     3.0   \n",
       "..              ...         ...     ...   \n",
       "123   AQR1LRU8TLJ5H  B0064X6JGQ     5.0   \n",
       "124   AFEC3BV85IXS4  B008J4EZE6     5.0   \n",
       "125  A3V26E528CWT3V  B0057017RS     3.0   \n",
       "126  A1N5FL7SNKG1JV  B006QO3T7U     3.0   \n",
       "127  A1K1RJZ1KSNK4U  B00DU6ZJ3Y     5.0   \n",
       "\n",
       "                                                  text  \n",
       "0           i went up one size to be super comfortable  \n",
       "1    these shoes are extremely comfortable and help...  \n",
       "2                  still a good shirt for a chilly day  \n",
       "3                             very cute but runs small  \n",
       "4                         these jeans fit true to size  \n",
       "..                                                 ...  \n",
       "123  dress fits perfectly & is very flattering for ...  \n",
       "124           they fit close to my feet which are wide  \n",
       "125                                          easy wear  \n",
       "126  i was able to return it right away and get ano...  \n",
       "127                           these shoes are so great  \n",
       "\n",
       "[128 rows x 4 columns]"
      ]
     },
     "execution_count": 28,
     "metadata": {},
     "output_type": "execute_result"
    }
   ],
   "source": [
    "df_no_feat = pd.DataFrame(data_no_feat.untransform_batch(first_batch_no_feat))\n",
    "\n",
    "df_no_feat"
   ]
  },
  {
   "cell_type": "code",
   "execution_count": null,
   "metadata": {},
   "outputs": [],
   "source": []
  }
 ],
 "metadata": {
  "kernelspec": {
   "display_name": "Python 3",
   "language": "python",
   "name": "python3"
  },
  "language_info": {
   "codemirror_mode": {
    "name": "ipython",
    "version": 3
   },
   "file_extension": ".py",
   "mimetype": "text/x-python",
   "name": "python",
   "nbconvert_exporter": "python",
   "pygments_lexer": "ipython3",
   "version": "3.11.8"
  }
 },
 "nbformat": 4,
 "nbformat_minor": 2
}
